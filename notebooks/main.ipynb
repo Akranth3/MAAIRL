{
 "cells": [
  {
   "cell_type": "code",
   "execution_count": 2,
   "metadata": {},
   "outputs": [],
   "source": [
    "import gymnasium as gym\n",
    "from gymnasium.envs.registration import register\n",
    "\n",
    "# Register the 8x8 2-player 1-food environment\n",
    "s, p, f = 8, 2, 1  # size=8x8, players=2, food=1\n",
    "c = False  # force_coop=False\n",
    "\n",
    "register(\n",
    "    id=\"Foraging-{0}x{0}-{1}p-{2}f{3}-v3\".format(s, p, f, \"-coop\" if c else \"\"),\n",
    "    entry_point=\"lbforaging.foraging:ForagingEnv\",\n",
    "    kwargs={\n",
    "        \"players\": p,\n",
    "        \"min_player_level\": 1,\n",
    "        \"max_player_level\": 3,\n",
    "        \"min_food_level\": 1,\n",
    "        \"max_food_level\": 3,\n",
    "        \"field_size\": (s, s),\n",
    "        \"max_num_food\": f,\n",
    "        \"sight\": s,\n",
    "        \"max_episode_steps\": 50,\n",
    "        \"force_coop\": c,\n",
    "        \"normalize_reward\": True,\n",
    "        \"grid_observation\": False,\n",
    "        \"observe_agent_levels\": True,\n",
    "        \"penalty\": 0.0,\n",
    "        \"render_mode\": None\n",
    "    },\n",
    ")"
   ]
  },
  {
   "cell_type": "code",
   "execution_count": 3,
   "metadata": {},
   "outputs": [
    {
     "name": "stderr",
     "output_type": "stream",
     "text": [
      "/opt/homebrew/Caskroom/miniconda/base/envs/marlbase/lib/python3.10/site-packages/gymnasium/envs/registration.py:521: UserWarning: \u001b[33mWARN: Using the latest versioned environment `Foraging-8x8-2p-1f-v3` instead of the unversioned environment `Foraging-8x8-2p-1f`.\u001b[0m\n",
      "  logger.warn(\n",
      "/opt/homebrew/Caskroom/miniconda/base/envs/marlbase/lib/python3.10/site-packages/gymnasium/envs/registration.py:694: UserWarning: \u001b[33mWARN: Overriding environment Foraging-8x8-2p-1f-v3 already in registry.\u001b[0m\n",
      "  logger.warn(f\"Overriding environment {new_spec.id} already in registry.\")\n"
     ]
    }
   ],
   "source": [
    "import gymnasium as gym\n",
    "env = gym.make(\"Foraging-8x8-2p-1f\")"
   ]
  },
  {
   "cell_type": "code",
   "execution_count": 3,
   "metadata": {},
   "outputs": [
    {
     "data": {
      "text/plain": [
       "((array([1., 4., 1., 3., 6., 1., 7., 6., 1.], dtype=float32),\n",
       "  array([1., 4., 1., 7., 6., 1., 3., 6., 1.], dtype=float32)),\n",
       " {})"
      ]
     },
     "execution_count": 3,
     "metadata": {},
     "output_type": "execute_result"
    }
   ],
   "source": [
    "env.reset()"
   ]
  },
  {
   "cell_type": "code",
   "execution_count": 4,
   "metadata": {},
   "outputs": [
    {
     "data": {
      "text/plain": [
       "Tuple(Discrete(6), Discrete(6))"
      ]
     },
     "execution_count": 4,
     "metadata": {},
     "output_type": "execute_result"
    }
   ],
   "source": [
    "env.action_space"
   ]
  },
  {
   "cell_type": "code",
   "execution_count": 5,
   "metadata": {},
   "outputs": [
    {
     "name": "stderr",
     "output_type": "stream",
     "text": [
      "/opt/homebrew/Caskroom/miniconda/base/envs/marlbase/lib/python3.10/site-packages/gymnasium/utils/passive_env_checker.py:246: UserWarning: \u001b[33mWARN: The reward returned by `step()` must be a float, int, np.integer or np.floating, actual type: <class 'list'>\u001b[0m\n",
      "  logger.warn(\n"
     ]
    },
    {
     "data": {
      "text/plain": [
       "((array([1., 4., 1., 2., 6., 1., 7., 6., 1.], dtype=float32),\n",
       "  array([1., 4., 1., 7., 6., 1., 2., 6., 1.], dtype=float32)),\n",
       " [0, 0],\n",
       " False,\n",
       " False,\n",
       " {})"
      ]
     },
     "execution_count": 5,
     "metadata": {},
     "output_type": "execute_result"
    }
   ],
   "source": [
    "env.step(env.action_space.sample())"
   ]
  },
  {
   "cell_type": "code",
   "execution_count": 8,
   "metadata": {},
   "outputs": [
    {
     "ename": "TypeError",
     "evalue": "ForagingEnv.render() got an unexpected keyword argument 'render_mode'",
     "output_type": "error",
     "traceback": [
      "\u001b[0;31m---------------------------------------------------------------------------\u001b[0m",
      "\u001b[0;31mTypeError\u001b[0m                                 Traceback (most recent call last)",
      "Cell \u001b[0;32mIn[8], line 1\u001b[0m\n\u001b[0;32m----> 1\u001b[0m rgb_array \u001b[38;5;241m=\u001b[39m \u001b[43menv\u001b[49m\u001b[38;5;241;43m.\u001b[39;49m\u001b[43mrender\u001b[49m\u001b[43m(\u001b[49m\u001b[43mrender_mode\u001b[49m\u001b[38;5;241;43m=\u001b[39;49m\u001b[38;5;124;43m\"\u001b[39;49m\u001b[38;5;124;43mrgb_array\u001b[39;49m\u001b[38;5;124;43m\"\u001b[39;49m\u001b[43m)\u001b[49m\n",
      "File \u001b[0;32m/opt/homebrew/Caskroom/miniconda/base/envs/marlbase/lib/python3.10/site-packages/gymnasium/wrappers/order_enforcing.py:70\u001b[0m, in \u001b[0;36mOrderEnforcing.render\u001b[0;34m(self, *args, **kwargs)\u001b[0m\n\u001b[1;32m     65\u001b[0m \u001b[38;5;28;01mif\u001b[39;00m \u001b[38;5;129;01mnot\u001b[39;00m \u001b[38;5;28mself\u001b[39m\u001b[38;5;241m.\u001b[39m_disable_render_order_enforcing \u001b[38;5;129;01mand\u001b[39;00m \u001b[38;5;129;01mnot\u001b[39;00m \u001b[38;5;28mself\u001b[39m\u001b[38;5;241m.\u001b[39m_has_reset:\n\u001b[1;32m     66\u001b[0m     \u001b[38;5;28;01mraise\u001b[39;00m ResetNeeded(\n\u001b[1;32m     67\u001b[0m         \u001b[38;5;124m\"\u001b[39m\u001b[38;5;124mCannot call `env.render()` before calling `env.reset()`, if this is a intended action, \u001b[39m\u001b[38;5;124m\"\u001b[39m\n\u001b[1;32m     68\u001b[0m         \u001b[38;5;124m\"\u001b[39m\u001b[38;5;124mset `disable_render_order_enforcing=True` on the OrderEnforcer wrapper.\u001b[39m\u001b[38;5;124m\"\u001b[39m\n\u001b[1;32m     69\u001b[0m     )\n\u001b[0;32m---> 70\u001b[0m \u001b[38;5;28;01mreturn\u001b[39;00m \u001b[38;5;28;43mself\u001b[39;49m\u001b[38;5;241;43m.\u001b[39;49m\u001b[43menv\u001b[49m\u001b[38;5;241;43m.\u001b[39;49m\u001b[43mrender\u001b[49m\u001b[43m(\u001b[49m\u001b[38;5;241;43m*\u001b[39;49m\u001b[43margs\u001b[49m\u001b[43m,\u001b[49m\u001b[43m \u001b[49m\u001b[38;5;241;43m*\u001b[39;49m\u001b[38;5;241;43m*\u001b[39;49m\u001b[43mkwargs\u001b[49m\u001b[43m)\u001b[49m\n",
      "File \u001b[0;32m/opt/homebrew/Caskroom/miniconda/base/envs/marlbase/lib/python3.10/site-packages/gymnasium/wrappers/env_checker.py:67\u001b[0m, in \u001b[0;36mPassiveEnvChecker.render\u001b[0;34m(self, *args, **kwargs)\u001b[0m\n\u001b[1;32m     65\u001b[0m     \u001b[38;5;28;01mreturn\u001b[39;00m env_render_passive_checker(\u001b[38;5;28mself\u001b[39m\u001b[38;5;241m.\u001b[39menv, \u001b[38;5;241m*\u001b[39margs, \u001b[38;5;241m*\u001b[39m\u001b[38;5;241m*\u001b[39mkwargs)\n\u001b[1;32m     66\u001b[0m \u001b[38;5;28;01melse\u001b[39;00m:\n\u001b[0;32m---> 67\u001b[0m     \u001b[38;5;28;01mreturn\u001b[39;00m \u001b[38;5;28;43mself\u001b[39;49m\u001b[38;5;241;43m.\u001b[39;49m\u001b[43menv\u001b[49m\u001b[38;5;241;43m.\u001b[39;49m\u001b[43mrender\u001b[49m\u001b[43m(\u001b[49m\u001b[38;5;241;43m*\u001b[39;49m\u001b[43margs\u001b[49m\u001b[43m,\u001b[49m\u001b[43m \u001b[49m\u001b[38;5;241;43m*\u001b[39;49m\u001b[38;5;241;43m*\u001b[39;49m\u001b[43mkwargs\u001b[49m\u001b[43m)\u001b[49m\n",
      "\u001b[0;31mTypeError\u001b[0m: ForagingEnv.render() got an unexpected keyword argument 'render_mode'"
     ]
    }
   ],
   "source": [
    "rgb_array = env.render()\n",
    "\n"
   ]
  },
  {
   "cell_type": "code",
   "execution_count": 8,
   "metadata": {},
   "outputs": [],
   "source": [
    "import gymnasium as gym\n",
    "\n",
    "envs = gym.envs.registry\n"
   ]
  },
  {
   "cell_type": "code",
   "execution_count": 9,
   "metadata": {},
   "outputs": [
    {
     "data": {
      "text/plain": [
       "dict_keys(['CartPole-v0', 'CartPole-v1', 'MountainCar-v0', 'MountainCarContinuous-v0', 'Pendulum-v1', 'Acrobot-v1', 'phys2d/CartPole-v0', 'phys2d/CartPole-v1', 'phys2d/Pendulum-v0', 'LunarLander-v2', 'LunarLanderContinuous-v2', 'BipedalWalker-v3', 'BipedalWalkerHardcore-v3', 'CarRacing-v2', 'Blackjack-v1', 'FrozenLake-v1', 'FrozenLake8x8-v1', 'CliffWalking-v0', 'Taxi-v3', 'tabular/Blackjack-v0', 'tabular/CliffWalking-v0', 'Reacher-v2', 'Reacher-v4', 'Pusher-v2', 'Pusher-v4', 'InvertedPendulum-v2', 'InvertedPendulum-v4', 'InvertedDoublePendulum-v2', 'InvertedDoublePendulum-v4', 'HalfCheetah-v2', 'HalfCheetah-v3', 'HalfCheetah-v4', 'Hopper-v2', 'Hopper-v3', 'Hopper-v4', 'Swimmer-v2', 'Swimmer-v3', 'Swimmer-v4', 'Walker2d-v2', 'Walker2d-v3', 'Walker2d-v4', 'Ant-v2', 'Ant-v3', 'Ant-v4', 'Humanoid-v2', 'Humanoid-v3', 'Humanoid-v4', 'HumanoidStandup-v2', 'HumanoidStandup-v4', 'GymV21Environment-v0', 'GymV26Environment-v0', 'Foraging-8x8-2p-1f-v3'])"
      ]
     },
     "execution_count": 9,
     "metadata": {},
     "output_type": "execute_result"
    }
   ],
   "source": [
    "envs.keys()"
   ]
  },
  {
   "cell_type": "code",
   "execution_count": 2,
   "metadata": {},
   "outputs": [],
   "source": [
    "import sys\n",
    "sys.path.append(\"../\")"
   ]
  },
  {
   "cell_type": "code",
   "execution_count": 3,
   "metadata": {},
   "outputs": [],
   "source": [
    "from algorithms.random_policy import random_policy"
   ]
  },
  {
   "cell_type": "code",
   "execution_count": 10,
   "metadata": {},
   "outputs": [
    {
     "name": "stderr",
     "output_type": "stream",
     "text": [
      "/opt/homebrew/Caskroom/miniconda/base/envs/marlbase/lib/python3.10/site-packages/gymnasium/envs/registration.py:521: UserWarning: \u001b[33mWARN: Using the latest versioned environment `Foraging-8x8-2p-1f-v3` instead of the unversioned environment `Foraging-8x8-2p-1f`.\u001b[0m\n",
      "  logger.warn(\n",
      "/opt/homebrew/Caskroom/miniconda/base/envs/marlbase/lib/python3.10/site-packages/gymnasium/envs/registration.py:694: UserWarning: \u001b[33mWARN: Overriding environment Foraging-8x8-2p-1f-v3 already in registry.\u001b[0m\n",
      "  logger.warn(f\"Overriding environment {new_spec.id} already in registry.\")\n"
     ]
    }
   ],
   "source": [
    "env = gym.make(\"Foraging-8x8-2p-1f\")\n"
   ]
  },
  {
   "cell_type": "code",
   "execution_count": 11,
   "metadata": {},
   "outputs": [
    {
     "name": "stderr",
     "output_type": "stream",
     "text": [
      "/opt/homebrew/Caskroom/miniconda/base/envs/marlbase/lib/python3.10/site-packages/gymnasium/utils/passive_env_checker.py:246: UserWarning: \u001b[33mWARN: The reward returned by `step()` must be a float, int, np.integer or np.floating, actual type: <class 'list'>\u001b[0m\n",
      "  logger.warn(\n",
      "2024-12-26 11:36:20.596 python[49329:2007898] +[IMKClient subclass]: chose IMKClient_Modern\n",
      "2024-12-26 11:36:20.623 python[49329:2007898] +[IMKInputSession subclass]: chose IMKInputSession_Modern\n"
     ]
    },
    {
     "data": {
      "text/plain": [
       "[[0, 0],\n",
       " [0, 0],\n",
       " [0, 0],\n",
       " [0, 0],\n",
       " [0, 0],\n",
       " [0, 0],\n",
       " [0, 0],\n",
       " [0, 0],\n",
       " [0, 0],\n",
       " [0, 0],\n",
       " [0, 0],\n",
       " [0, 0],\n",
       " [0, 0],\n",
       " [0, 0],\n",
       " [0, 0],\n",
       " [0, 0],\n",
       " [0, 0],\n",
       " [0, 0],\n",
       " [0, 0],\n",
       " [0, 0],\n",
       " [0, 0],\n",
       " [0, 0],\n",
       " [0, 0],\n",
       " [0, 0],\n",
       " [0, 0],\n",
       " [0, 0],\n",
       " [1.0, 0]]"
      ]
     },
     "execution_count": 11,
     "metadata": {},
     "output_type": "execute_result"
    },
    {
     "ename": "",
     "evalue": "",
     "output_type": "error",
     "traceback": [
      "\u001b[1;31mThe Kernel crashed while executing code in the current cell or a previous cell. \n",
      "\u001b[1;31mPlease review the code in the cell(s) to identify a possible cause of the failure. \n",
      "\u001b[1;31mClick <a href='https://aka.ms/vscodeJupyterKernelCrash'>here</a> for more info. \n",
      "\u001b[1;31mView Jupyter <a href='command:jupyter.viewOutput'>log</a> for further details."
     ]
    }
   ],
   "source": [
    "random_policy(env, 30, visualize=True)"
   ]
  },
  {
   "cell_type": "code",
   "execution_count": 12,
   "metadata": {},
   "outputs": [],
   "source": [
    "from pettingzoo.mpe import simple_adversary_v3\n",
    "\n",
    "env = simple_adversary_v3.env()\n",
    "temp = env.reset(seed=42)\n",
    "\n"
   ]
  },
  {
   "cell_type": "code",
   "execution_count": 13,
   "metadata": {},
   "outputs": [],
   "source": [
    "temp"
   ]
  },
  {
   "cell_type": "code",
   "execution_count": 14,
   "metadata": {},
   "outputs": [
    {
     "data": {
      "text/plain": [
       "<bound method OrderEnforcingWrapper.agent_iter of <pettingzoo.utils.wrappers.order_enforcing.OrderEnforcingWrapper object at 0x11b8a1180>>"
      ]
     },
     "execution_count": 14,
     "metadata": {},
     "output_type": "execute_result"
    }
   ],
   "source": [
    "env.agent_iter"
   ]
  },
  {
   "cell_type": "code",
   "execution_count": 15,
   "metadata": {},
   "outputs": [
    {
     "name": "stdout",
     "output_type": "stream",
     "text": [
      "[ 0.69437176 -1.4609686   0.023015   -0.97559977  0.51697916 -1.5288411\n",
      "  1.0734879  -0.19491644] 0.0 False False {}\n",
      "[ 0.17739256  0.06787257  0.17739256  0.06787257 -0.4939642   0.5532414\n",
      " -0.51697916  1.5288411   0.55650866  1.3339247 ] 0.0 False False {}\n",
      "[-0.3791161  -1.2660521  -0.3791161  -1.2660521  -1.0504729  -0.78068334\n",
      " -1.0734879   0.19491644 -0.55650866 -1.3339247 ] 0.0 False False {}\n",
      "[ 0.69437176 -1.4609686   0.023015   -0.97559977  0.51697916 -1.5288411\n",
      "  1.0734879  -0.19491644] -1.6175850136777643 False False {}\n",
      "[ 0.17739256  0.06787257  0.17739256  0.06787257 -0.4939642   0.5532414\n",
      " -0.51697916  1.5288411   0.55650866  1.3339247 ] 1.4276513321984416 False False {}\n",
      "[-0.3791161  -1.2660521  -0.3791161  -1.2660521  -1.0504729  -0.78068334\n",
      " -1.0734879   0.19491644 -0.55650866 -1.3339247 ] 1.4276513321984416 False False {}\n",
      "[ 0.69437176 -1.5109686   0.023015   -1.0255998   0.51697916 -1.6288412\n",
      "  1.0234878  -0.24491644] -1.6628824774836195 False False {}\n",
      "[ 0.17739256  0.11787257  0.17739256  0.11787257 -0.4939642   0.6032413\n",
      " -0.51697916  1.6288412   0.50650865  1.3839247 ] 1.449898768440256 False False {}\n",
      "[-0.3291161  -1.2660521  -0.3291161  -1.2660521  -1.0004728  -0.78068334\n",
      " -1.0234878   0.24491644 -0.50650865 -1.3839247 ] 1.449898768440256 False False {}\n",
      "[ 0.69437176 -1.5484686   0.023015   -1.0630997   0.51697916 -1.6538411\n",
      "  0.98598784 -0.33241645] -1.697028882196009 False False {}\n",
      "[ 0.17739256  0.10537257  0.17739256  0.10537257 -0.4939642   0.59074134\n",
      " -0.51697916  1.6538411   0.46900865  1.3214247 ] 1.4907002703205026 False False {}\n",
      "[-0.29161608 -1.2160522  -0.29161608 -1.2160522  -0.9629728  -0.7306833\n",
      " -0.98598784  0.33241645 -0.46900865 -1.3214247 ] 1.4907002703205026 False False {}\n",
      "[ 0.69437176 -1.5765935   0.023015   -1.0912248   0.51697916 -1.6225911\n",
      "  0.9578628  -0.34804145] -1.7227302168205176 False False {}\n",
      "[ 0.17739256  0.04599757  0.17739256  0.04599757 -0.4939642   0.53136635\n",
      " -0.51697916  1.6225911   0.44088364  1.2745497 ] 1.5394711268240104 False False {}\n",
      "[-0.2634911  -1.2285521  -0.2634911  -1.2285521  -0.93484783 -0.7431834\n",
      " -0.9578628   0.34804145 -0.44088364 -1.2745497 ] 1.5394711268240104 False False {}\n",
      "[ 0.69437176 -1.5976874   0.023015   -1.1123185   0.46697918 -1.5991536\n",
      "  0.9867691  -0.3597602 ] -1.7420553629717264 False False {}\n",
      "[ 2.2739255e-01  1.4663195e-03  2.2739255e-01  1.4663195e-03\n",
      " -4.4396418e-01  4.8683509e-01 -4.6697918e-01  1.5991536e+00\n",
      "  5.1978987e-01  1.2393935e+00] 1.514658082873471 False False {}\n",
      "[-0.29239735 -1.2379271  -0.29239735 -1.2379271  -0.96375406 -0.75255835\n",
      " -0.9867691   0.3597602  -0.5197899  -1.2393935 ] 1.514658082873471 False False {}\n",
      "[ 0.69437176 -1.6135076   0.023015   -1.1281389   0.47947916 -1.5815755\n",
      "  1.0584488  -0.36854926] -1.7565759293144754 False False {}\n",
      "[ 0.21489255 -0.03193212  0.21489255 -0.03193212 -0.45646417  0.45343667\n",
      " -0.47947916  1.5815755   0.5789696   1.2130263 ] 1.539323842449396 False False {}\n",
      "[-0.36407703 -1.2449584  -0.36407703 -1.2449584  -1.0354338  -0.7595896\n",
      " -1.0584488   0.36854926 -0.5789696  -1.2130263 ] 1.539323842449396 False False {}\n",
      "[ 0.69437176 -1.5753728   0.023015   -1.0900041   0.48885417 -1.5683919\n",
      "  1.1122085  -0.32514104] -1.7216131344341452 False False {}\n",
      "[ 0.20551755 -0.00698095  0.20551755 -0.00698095 -0.46583918  0.47838783\n",
      " -0.48885417  1.5683919   0.6233544   1.2432508 ] 1.5159770530508219 False False {}\n",
      "[-0.4178368  -1.2502319  -0.4178368  -1.2502319  -1.0891936  -0.764863\n",
      " -1.1122085   0.32514104 -0.6233544  -1.2432508 ] 1.5159770530508219 False False {}\n",
      "[ 0.69437176 -1.5967718   0.023015   -1.111403    0.49588543 -1.6085042\n",
      "  1.1525284  -0.3925849 ] -1.7412157456743371 False False {}\n",
      "[ 0.1984863   0.01173243  0.1984863   0.01173243 -0.47287044  0.49710122\n",
      " -0.49588543  1.6085042   0.6566429   1.2159194 ] 1.5423829962713913 False False {}\n",
      "[-0.45815662 -1.2041869  -0.45815662 -1.2041869  -1.1295134  -0.7188181\n",
      " -1.1525284   0.3925849  -0.6566429  -1.2159194 ] 1.5423829962713913 False False {}\n",
      "[ 0.69437176 -1.6628209   0.023015   -1.1774522   0.5011589  -1.6885885\n",
      "  1.1827682  -0.44316778] -1.8019782880306734 False False {}\n",
      "[ 0.19321287  0.02576747  0.19321287  0.02576747 -0.47814387  0.51113623\n",
      " -0.5011589   1.6885885   0.68160933  1.2454207 ] 1.6070547811518237 False False {}\n",
      "[-0.4883965  -1.2196532  -0.4883965  -1.2196532  -1.1597532  -0.7342844\n",
      " -1.1827682   0.44316778 -0.68160933 -1.2454207 ] 1.6070547811518237 False False {}\n",
      "[ 0.69437176 -1.7623578   0.023015   -1.2769891   0.50511396 -1.7986516\n",
      "  1.1554481  -0.5311049 ] -1.894216836455871 False False {}\n",
      "[ 0.18925779  0.03629374  0.18925779  0.03629374 -0.48209894  0.52166253\n",
      " -0.50511396  1.7986516   0.6503342   1.2675467 ] 1.7015104649333075 False False {}\n",
      "[-0.46107638 -1.2312529  -0.46107638 -1.2312529  -1.1324332  -0.7458842\n",
      " -1.1554481   0.5311049  -0.6503342  -1.2675467 ] 1.7015104649333075 False False {}\n",
      "[ 0.64437175 -1.8370105  -0.026985   -1.3516418   0.45808026 -1.881199\n",
      "  1.0849581  -0.5470578 ] -1.9467467020038893 False False {}\n",
      "[ 0.18629147  0.04418845  0.18629147  0.04418845 -0.48506525  0.5295572\n",
      " -0.45808026  1.881199    0.6268778   1.3341411 ] 1.7552861736534637 False False {}\n",
      "[-0.44058633 -1.2899528  -0.44058633 -1.2899528  -1.111943   -0.80458397\n",
      " -1.0849581   0.5470578  -0.6268778  -1.3341411 ] 1.7552861736534637 False False {}\n",
      "[ 0.6068717  -1.9430001  -0.06448501 -1.4576312   0.42280498 -1.9431095\n",
      "  1.0820905  -0.6090225 ] -2.0355693410785367 False False {}\n",
      "[ 1.8406674e-01  1.0947944e-04  1.8406674e-01  1.0947944e-04\n",
      " -4.8728999e-01  4.8547825e-01 -4.2280498e-01  1.9431095e+00\n",
      "  6.5928549e-01  1.3340870e+00] 1.8515025617492649 False False {}\n",
      "[-0.47521877 -1.3339776  -0.47521877 -1.3339776  -1.1465755  -0.8486088\n",
      " -1.0820905   0.6090225  -0.6592855  -1.334087  ] 1.8515025617492649 False False {}\n",
      "[ 0.57874674 -1.9724922  -0.09261    -1.4871234   0.44634852 -1.9395424\n",
      "  1.0799398  -0.555496  ] -2.0556442351270414 False False {}\n",
      "[ 0.1323982  -0.03294975  0.1323982  -0.03294975 -0.53895855  0.45241904\n",
      " -0.44634852  1.9395424   0.6335913   1.3840464 ] 1.9192075509908657 False False {}\n",
      "[-0.5011931  -1.4169962  -0.5011931  -1.4169962  -1.1725498  -0.93162745\n",
      " -1.0799398   0.555496   -0.6335913  -1.3840464 ] 1.9192075509908657 False False {}\n",
      "[ 0.507653   -1.9946113  -0.16370375 -1.5092425   0.4140062  -1.9368671\n",
      "  1.0283269  -0.46535107] -2.058199634201746 False False {}\n",
      "[ 0.09364679 -0.05774417  0.09364679 -0.05774417 -0.57771     0.4276246\n",
      " -0.4140062   1.9368671   0.61432064  1.471516  ] 1.9481809554305376 False False {}\n",
      "[-0.5206739  -1.5292602  -0.5206739  -1.5292602  -1.1920305  -1.0438914\n",
      " -1.0283269   0.46535107 -0.61432064 -1.471516  ] 1.9481809554305376 False False {}\n",
      "[ 0.40433267 -2.0112007  -0.26702407 -1.5258318   0.28974944 -1.9348606\n",
      "  0.8896171  -0.39774242] -2.0514416382348637 False False {}\n",
      "[ 0.11458323 -0.07633998  0.11458323 -0.07633998 -0.5567735   0.4090288\n",
      " -0.28974944  1.9348606   0.59986764  1.5371182 ] 1.9137568193677144 False False {}\n",
      "[-0.48528442 -1.6134582  -0.48528442 -1.6134582  -1.1566411  -1.1280894\n",
      " -0.8896171   0.39774242 -0.59986764 -1.5371182 ] 1.9137568193677144 False False {}\n",
      "[ 0.37684244 -2.0236425  -0.2945143  -1.5382738   0.24655688 -1.9333558\n",
      "  0.83558476 -0.39703593] -2.058431342831461 False False {}\n",
      "[ 0.13028556 -0.09028684  0.13028556 -0.09028684 -0.5410712   0.39508194\n",
      " -0.24655688  1.9333558   0.5890279   1.5363199 ] 1.8999193828877337 False False {}\n",
      "[-0.45874232 -1.6266067  -0.45874232 -1.6266067  -1.130099   -1.1412379\n",
      " -0.83558476  0.39703593 -0.5890279  -1.5363199 ] 1.8999193828877337 False False {}\n",
      "[ 0.35622475 -2.032974   -0.31513196 -1.5476053   0.21416245 -1.9322271\n",
      "  0.8450605  -0.39650604] -2.0639476117701325 False False {}\n",
      "[ 0.1420623  -0.10074699  0.1420623  -0.10074699 -0.52929443  0.3846218\n",
      " -0.21416245  1.9322271   0.63089806  1.5357211 ] 1.889787755345433 False False {}\n",
      "[-0.48883578 -1.636468   -0.48883578 -1.636468   -1.1601925  -1.1510992\n",
      " -0.8450605   0.39650604 -0.63089806 -1.5357211 ] 1.889787755345433 False False {}\n",
      "[ 0.3907615  -2.0399728  -0.28059524 -1.5546039   0.28986663 -1.9313806\n",
      "  0.9021674  -0.34610865] -2.077061199029767 False False {}\n",
      "[ 0.10089487 -0.1085921   0.10089487 -0.1085921  -0.57046187  0.3767767\n",
      " -0.28986663  1.9313806   0.6123007   1.585272  ] 1.9288315830635412 False False {}\n",
      "[-0.5114058  -1.6938641  -0.5114058  -1.6938641  -1.1827626  -1.2084953\n",
      " -0.9021674   0.34610865 -0.6123007  -1.585272  ] 1.9288315830635412 False False {}\n",
      "[ 0.46666405 -2.0452216  -0.20469268 -1.5598528   0.39664477 -1.9307457\n",
      "  0.9449975  -0.3083106 ] -2.097786228454619 False False {}\n",
      "[ 0.07001929 -0.11447594  0.07001929 -0.11447594 -0.60133743  0.37089285\n",
      " -0.39664477  1.9307457   0.5483527   1.6224351 ] 1.9635944241965488 False False {}\n",
      "[-0.4783334 -1.736911  -0.4783334 -1.736911  -1.1496902 -1.2515423\n",
      " -0.9449975  0.3083106 -0.5483527 -1.6224351] 1.9635944241965488 False False {}\n",
      "[ 0.523591   -1.9991584  -0.14776576 -1.5137897   0.47672838 -1.9302696\n",
      "  1.0271201  -0.22996205] -2.066587000592483 False False {}\n",
      "[ 0.04686261 -0.06888881  0.04686261 -0.06888881 -0.62449414  0.41647997\n",
      " -0.47672838  1.9302696   0.5503917   1.7003075 ] 1.9832697056529247 False False {}\n",
      "[-0.5035291  -1.7691964  -0.5035291  -1.7691964  -1.1748859  -1.2838275\n",
      " -1.0271201   0.22996205 -0.5503917  -1.7003075 ] 1.9832697056529247 False False {}\n",
      "[ 0.5162862  -1.9646109  -0.15507057 -1.4792422   0.43679106 -1.9299124\n",
      "  1.038712   -0.22120064] -2.0313167091770485 False False {}\n",
      "[ 0.07949509 -0.03469846  0.07949509 -0.03469846 -0.59186167  0.45067033\n",
      " -0.43679106  1.9299124   0.6019209   1.7087119 ] 1.9445788682707579 False False {}\n",
      "[-0.52242583 -1.7434103  -0.52242583 -1.7434103  -1.1937826  -1.2580415\n",
      " -1.038712    0.22120064 -0.6019209  -1.7087119 ] 1.9445788682707579 False False {}\n",
      "[ 0.5108076  -1.9887004  -0.16054918 -1.5033315   0.4068381  -1.9796447\n",
      "  1.047406   -0.21462959] -2.0532543568738117 False False {}\n",
      "[ 0.10396945 -0.0090557   0.10396945 -0.0090557  -0.5673873   0.47631308\n",
      " -0.4068381   1.9796447   0.64056784  1.765015  ] 1.9488912703429457 False False {}\n",
      "[-0.5365984  -1.7740707  -0.5365984  -1.7740707  -1.2079551  -1.288702\n",
      " -1.047406    0.21462959 -0.64056784 -1.765015  ] 1.9488912703429457 False False {}\n",
      "[ 0.5566986  -2.0067675  -0.11465813 -1.5213987   0.43437338 -1.9669437\n",
      "  1.1039264  -0.2097013 ] -2.082553423774159 False False {}\n",
      "[ 0.12232523 -0.03982364  0.12232523 -0.03982364 -0.5490315   0.44554514\n",
      " -0.43437338  1.9669437   0.66955304  1.7572424 ] 1.9539090139807602 False False {}\n",
      "[-0.5472278  -1.7970661  -0.5472278  -1.7970661  -1.2185845  -1.3116974\n",
      " -1.1039264   0.2097013  -0.66955304 -1.7572424 ] 1.9539090139807602 False False {}\n",
      "[ 0.64111686 -2.0203178  -0.03023985 -1.534949    0.4550248  -1.9574181\n",
      "  1.2463168  -0.20600508] -2.119602431159596 False False {}\n",
      "[ 0.18609206 -0.06289958  0.18609206 -0.06289958 -0.48526466  0.4224692\n",
      " -0.4550248   1.9574181   0.79129195  1.751413  ] 1.9231676758319711 False False {}\n",
      "[-0.6051999  -1.8143126  -0.6051999  -1.8143126  -1.2765566  -1.3289438\n",
      " -1.2463168   0.20600508 -0.79129195 -1.751413  ] 1.9231676758319711 False False {}\n",
      "[ 0.7044306  -1.9804804   0.03307386 -1.4951116   0.5205134  -1.9002739\n",
      "  1.3031095  -0.15323293] -2.1020288179318816 False True {}\n",
      "[ 0.18391718 -0.08020654  0.18391718 -0.08020654 -0.48743954  0.40516225\n",
      " -0.5205134   1.9002739   0.7825961   1.747041  ] 1.9013833078866622 False True {}\n",
      "[-0.59867895 -1.8272475  -0.59867895 -1.8272475  -1.2700356  -1.3418787\n",
      " -1.3031095   0.15323293 -0.7825961  -1.747041  ] 1.9013833078866622 False True {}\n"
     ]
    }
   ],
   "source": [
    "for agent in env.agent_iter():\n",
    "    observation, reward, termination, truncation, info = env.last()\n",
    "    print(observation, reward, termination, truncation, info)\n",
    "    if termination or truncation:\n",
    "        action = None\n",
    "    else:\n",
    "        # this is where you would insert your policy\n",
    "        action = env.action_space(agent).sample()\n",
    "\n",
    "    env.step(action)\n",
    "env.close()"
   ]
  },
  {
   "cell_type": "code",
   "execution_count": 1,
   "metadata": {},
   "outputs": [],
   "source": [
    "from pettingzoo.mpe import simple_adversary_v3\n",
    "import numpy as np\n",
    "import os\n",
    "env = simple_adversary_v3.env(continuous_actions=True)"
   ]
  },
  {
   "cell_type": "code",
   "execution_count": 2,
   "metadata": {},
   "outputs": [],
   "source": [
    "env.reset()"
   ]
  },
  {
   "cell_type": "code",
   "execution_count": 4,
   "metadata": {},
   "outputs": [],
   "source": [
    "env.reset()\n",
    "score = 0\n",
    "\n"
   ]
  },
  {
   "cell_type": "code",
   "execution_count": 5,
   "metadata": {},
   "outputs": [
    {
     "name": "stdout",
     "output_type": "stream",
     "text": [
      "adversary_0\n",
      "5\n",
      "agent_0\n",
      "5\n",
      "agent_1\n",
      "5\n"
     ]
    }
   ],
   "source": [
    "for agent in env.agents:\n",
    "    print(agent)\n",
    "    print(env.action_space(agent).shape[0])"
   ]
  },
  {
   "cell_type": "code",
   "execution_count": 19,
   "metadata": {},
   "outputs": [
    {
     "data": {
      "text/plain": [
       "3"
      ]
     },
     "execution_count": 19,
     "metadata": {},
     "output_type": "execute_result"
    }
   ],
   "source": [
    "env.num_agents"
   ]
  },
  {
   "cell_type": "code",
   "execution_count": 18,
   "metadata": {},
   "outputs": [
    {
     "data": {
      "text/plain": [
       "[5, 5, 5]"
      ]
     },
     "execution_count": 18,
     "metadata": {},
     "output_type": "execute_result"
    }
   ],
   "source": [
    "num_agents = len(env.agents)\n",
    "[env.action_space(i).shape[0] for i in env.agents]"
   ]
  },
  {
   "cell_type": "code",
   "execution_count": 46,
   "metadata": {},
   "outputs": [
    {
     "ename": "AssertionError",
     "evalue": "need to call step() or reset() in a loop over `agent_iter`",
     "output_type": "error",
     "traceback": [
      "\u001b[0;31m---------------------------------------------------------------------------\u001b[0m",
      "\u001b[0;31mAssertionError\u001b[0m                            Traceback (most recent call last)",
      "Cell \u001b[0;32mIn[46], line 1\u001b[0m\n\u001b[0;32m----> 1\u001b[0m \u001b[38;5;28;01mfor\u001b[39;00m agent \u001b[38;5;129;01min\u001b[39;00m env\u001b[38;5;241m.\u001b[39magent_iter():\n\u001b[1;32m      2\u001b[0m     observation, reward, done, _, _ \u001b[38;5;241m=\u001b[39m env\u001b[38;5;241m.\u001b[39mlast()\n\u001b[1;32m      3\u001b[0m     \u001b[38;5;28mprint\u001b[39m(observation)\n",
      "File \u001b[0;32m/opt/homebrew/Caskroom/miniconda/base/envs/marlbase/lib/python3.10/site-packages/pettingzoo/utils/wrappers/order_enforcing.py:142\u001b[0m, in \u001b[0;36mAECOrderEnforcingIterator.__next__\u001b[0;34m(self)\u001b[0m\n\u001b[1;32m    138\u001b[0m agent \u001b[38;5;241m=\u001b[39m \u001b[38;5;28msuper\u001b[39m()\u001b[38;5;241m.\u001b[39m\u001b[38;5;21m__next__\u001b[39m()\n\u001b[1;32m    139\u001b[0m \u001b[38;5;28;01massert\u001b[39;00m \u001b[38;5;28mhasattr\u001b[39m(\n\u001b[1;32m    140\u001b[0m     \u001b[38;5;28mself\u001b[39m\u001b[38;5;241m.\u001b[39menv, \u001b[38;5;124m\"\u001b[39m\u001b[38;5;124m_has_updated\u001b[39m\u001b[38;5;124m\"\u001b[39m\n\u001b[1;32m    141\u001b[0m ), \u001b[38;5;124m\"\u001b[39m\u001b[38;5;124menv must be wrapped by OrderEnforcingWrapper\u001b[39m\u001b[38;5;124m\"\u001b[39m\n\u001b[0;32m--> 142\u001b[0m \u001b[38;5;28;01massert\u001b[39;00m (\n\u001b[1;32m    143\u001b[0m     \u001b[38;5;28mself\u001b[39m\u001b[38;5;241m.\u001b[39menv\u001b[38;5;241m.\u001b[39m_has_updated  \u001b[38;5;66;03m# pyright: ignore[reportGeneralTypeIssues]\u001b[39;00m\n\u001b[1;32m    144\u001b[0m ), \u001b[38;5;124m\"\u001b[39m\u001b[38;5;124mneed to call step() or reset() in a loop over `agent_iter`\u001b[39m\u001b[38;5;124m\"\u001b[39m\n\u001b[1;32m    145\u001b[0m \u001b[38;5;28mself\u001b[39m\u001b[38;5;241m.\u001b[39menv\u001b[38;5;241m.\u001b[39m_has_updated \u001b[38;5;241m=\u001b[39m \u001b[38;5;28;01mFalse\u001b[39;00m  \u001b[38;5;66;03m# pyright: ignore[reportGeneralTypeIssues]\u001b[39;00m\n\u001b[1;32m    146\u001b[0m \u001b[38;5;28;01mreturn\u001b[39;00m agent\n",
      "\u001b[0;31mAssertionError\u001b[0m: need to call step() or reset() in a loop over `agent_iter`"
     ]
    }
   ],
   "source": [
    "for agent in env.agent_iter():\n",
    "    observation, reward, done, _, _ = env.last()\n",
    "    print(observation)"
   ]
  },
  {
   "cell_type": "code",
   "execution_count": 21,
   "metadata": {},
   "outputs": [
    {
     "ename": "IndexError",
     "evalue": "tuple index out of range",
     "output_type": "error",
     "traceback": [
      "\u001b[0;31m---------------------------------------------------------------------------\u001b[0m",
      "\u001b[0;31mIndexError\u001b[0m                                Traceback (most recent call last)",
      "Cell \u001b[0;32mIn[21], line 1\u001b[0m\n\u001b[0;32m----> 1\u001b[0m [env\u001b[38;5;241m.\u001b[39maction_space(agent)\u001b[38;5;241m.\u001b[39mshape[\u001b[38;5;241m0\u001b[39m] \u001b[38;5;28;01mfor\u001b[39;00m agent \u001b[38;5;129;01min\u001b[39;00m env\u001b[38;5;241m.\u001b[39magents]\n",
      "Cell \u001b[0;32mIn[21], line 1\u001b[0m, in \u001b[0;36m<listcomp>\u001b[0;34m(.0)\u001b[0m\n\u001b[0;32m----> 1\u001b[0m [\u001b[43menv\u001b[49m\u001b[38;5;241;43m.\u001b[39;49m\u001b[43maction_space\u001b[49m\u001b[43m(\u001b[49m\u001b[43magent\u001b[49m\u001b[43m)\u001b[49m\u001b[38;5;241;43m.\u001b[39;49m\u001b[43mshape\u001b[49m\u001b[43m[\u001b[49m\u001b[38;5;241;43m0\u001b[39;49m\u001b[43m]\u001b[49m \u001b[38;5;28;01mfor\u001b[39;00m agent \u001b[38;5;129;01min\u001b[39;00m env\u001b[38;5;241m.\u001b[39magents]\n",
      "\u001b[0;31mIndexError\u001b[0m: tuple index out of range"
     ]
    }
   ],
   "source": [
    "[env.action_space(agent).shape[0] for agent in env.agents]"
   ]
  },
  {
   "cell_type": "code",
   "execution_count": 1,
   "metadata": {},
   "outputs": [],
   "source": [
    "import pickle"
   ]
  },
  {
   "cell_type": "code",
   "execution_count": 2,
   "metadata": {},
   "outputs": [],
   "source": [
    "with open(\"../demonstration/maddpg/simple_adversary_expert_trajectories.pkl\", \"rb\") as f:\n",
    "    expert_trajectories = pickle.load(f)\n"
   ]
  },
  {
   "cell_type": "code",
   "execution_count": 11,
   "metadata": {},
   "outputs": [
    {
     "data": {
      "text/plain": [
       "('adversary_0', -26.7913434695616)"
      ]
     },
     "execution_count": 11,
     "metadata": {},
     "output_type": "execute_result"
    }
   ],
   "source": [
    "expert_trajectories.episodes[1]['adversary_0'].agent_name, expert_trajectories.episodes[1]['adversary_0'].total_reward"
   ]
  },
  {
   "cell_type": "code",
   "execution_count": 20,
   "metadata": {},
   "outputs": [
    {
     "data": {
      "text/plain": [
       "(26, 25, 25)"
      ]
     },
     "execution_count": 20,
     "metadata": {},
     "output_type": "execute_result"
    }
   ],
   "source": [
    "len(expert_trajectories.episodes[1]['adversary_0'].steps), len(expert_trajectories.episodes[1]['agent_1'].steps), len(expert_trajectories.episodes[1]['agent_0'].steps)"
   ]
  },
  {
   "cell_type": "code",
   "execution_count": 18,
   "metadata": {},
   "outputs": [
    {
     "data": {
      "text/plain": [
       "<utils.expert_trajectories.Trajectory at 0x107de9780>"
      ]
     },
     "execution_count": 18,
     "metadata": {},
     "output_type": "execute_result"
    }
   ],
   "source": [
    "expert_trajectories.episodes[1]['agent_0']."
   ]
  },
  {
   "cell_type": "code",
   "execution_count": 23,
   "metadata": {},
   "outputs": [
    {
     "data": {
      "text/plain": [
       "list"
      ]
     },
     "execution_count": 23,
     "metadata": {},
     "output_type": "execute_result"
    }
   ],
   "source": [
    "type(expert_trajectories.episodes[2]['agent_0'].steps)"
   ]
  },
  {
   "cell_type": "code",
   "execution_count": 26,
   "metadata": {},
   "outputs": [
    {
     "data": {
      "text/plain": [
       "(array([-0.06177734, -0.5723403 , -0.06177734, -0.5723403 ,  0.74421424,\n",
       "        -0.7470434 , -0.09096091, -1.2650126 ,  0.3218681 , -0.6724444 ],\n",
       "       dtype=float32),\n",
       " array([1., 1., 1., 1., 1.], dtype=float32),\n",
       " 0.0)"
      ]
     },
     "execution_count": 26,
     "metadata": {},
     "output_type": "execute_result"
    }
   ],
   "source": [
    "expert_trajectories.episodes[2]['agent_0'].steps[0].state, expert_trajectories.episodes[2]['agent_0'].steps[0].action, expert_trajectories.episodes[2]['agent_0'].steps[0].reward"
   ]
  },
  {
   "cell_type": "code",
   "execution_count": 27,
   "metadata": {},
   "outputs": [
    {
     "data": {
      "text/plain": [
       "Step(state=array([ 0.48223674,  0.4549363 , -0.38882354,  0.01729467,  0.44266295,\n",
       "       -0.09485035,  0.9689405 ,  1.2984968 ], dtype=float32), action=array([4.0452520e-05, 2.1440882e-04, 2.9155475e-05, 2.3765291e-05,\n",
       "       6.1153191e-01], dtype=float32), reward=0.0)"
      ]
     },
     "execution_count": 27,
     "metadata": {},
     "output_type": "execute_result"
    }
   ],
   "source": [
    "expert_trajectories.episodes[1]['adversary_0'].steps[0]"
   ]
  },
  {
   "cell_type": "code",
   "execution_count": 28,
   "metadata": {},
   "outputs": [
    {
     "data": {
      "text/plain": [
       "Step(state=array([ 0.03957379,  0.5497866 ,  0.03957379,  0.5497866 , -0.8314865 ,\n",
       "        0.11214503, -0.44266295,  0.09485035,  0.52627754,  1.3933473 ],\n",
       "      dtype=float32), action=array([1., 1., 1., 1., 1.], dtype=float32), reward=0.0)"
      ]
     },
     "execution_count": 28,
     "metadata": {},
     "output_type": "execute_result"
    }
   ],
   "source": [
    "expert_trajectories.episodes[1]['agent_0'].steps[0]"
   ]
  },
  {
   "cell_type": "code",
   "execution_count": 29,
   "metadata": {},
   "outputs": [
    {
     "data": {
      "text/plain": [
       "Step(state=array([-0.48670375, -0.8435606 , -0.48670375, -0.8435606 , -1.357764  ,\n",
       "       -1.2812022 , -0.9689405 , -1.2984968 , -0.52627754, -1.3933473 ],\n",
       "      dtype=float32), action=array([3.9955069e-14, 1.0000000e+00, 1.0000000e+00, 7.3164564e-18,\n",
       "       1.2255622e-15], dtype=float32), reward=0.0)"
      ]
     },
     "execution_count": 29,
     "metadata": {},
     "output_type": "execute_result"
    }
   ],
   "source": [
    "expert_trajectories.episodes[1]['agent_1'].steps[0]"
   ]
  },
  {
   "cell_type": "code",
   "execution_count": 2,
   "metadata": {},
   "outputs": [],
   "source": [
    "from pettingzoo.mpe import simple_adversary_v3"
   ]
  },
  {
   "cell_type": "code",
   "execution_count": 3,
   "metadata": {},
   "outputs": [],
   "source": [
    "env = simple_adversary_v3.env(continuous_actions=True)"
   ]
  },
  {
   "cell_type": "code",
   "execution_count": 45,
   "metadata": {},
   "outputs": [],
   "source": [
    "env.reset()\n"
   ]
  },
  {
   "cell_type": "code",
   "execution_count": 46,
   "metadata": {},
   "outputs": [
    {
     "data": {
      "text/plain": [
       "(array([ 1.0398244 ,  0.8765841 , -0.10024004,  0.07042043,  0.11303781,\n",
       "         0.6428047 , -0.5682104 ,  0.7251433 ], dtype=float32),\n",
       " 0.0,\n",
       " False,\n",
       " False,\n",
       " {})"
      ]
     },
     "execution_count": 46,
     "metadata": {},
     "output_type": "execute_result"
    }
   ],
   "source": [
    "env.last()"
   ]
  },
  {
   "cell_type": "code",
   "execution_count": null,
   "metadata": {},
   "outputs": [],
   "source": [
    "env"
   ]
  },
  {
   "cell_type": "code",
   "execution_count": null,
   "metadata": {},
   "outputs": [
    {
     "ename": "AssertionError",
     "evalue": "need to call step() or reset() in a loop over `agent_iter`",
     "output_type": "error",
     "traceback": [
      "\u001b[0;31m---------------------------------------------------------------------------\u001b[0m",
      "\u001b[0;31mAssertionError\u001b[0m                            Traceback (most recent call last)",
      "Cell \u001b[0;32mIn[36], line 1\u001b[0m\n\u001b[0;32m----> 1\u001b[0m \u001b[38;5;28;01mfor\u001b[39;00m agent \u001b[38;5;129;01min\u001b[39;00m env\u001b[38;5;241m.\u001b[39magent_iter():\n\u001b[1;32m      2\u001b[0m     \u001b[38;5;28mprint\u001b[39m(agent)\n\u001b[1;32m      3\u001b[0m     \u001b[38;5;66;03m# observation, reward, done, _, _ = env.last()\u001b[39;00m\n\u001b[1;32m      4\u001b[0m     \u001b[38;5;66;03m# action = env.action_space(agent).sample()\u001b[39;00m\n\u001b[1;32m      5\u001b[0m     \u001b[38;5;66;03m# env.step(action)\u001b[39;00m\n\u001b[1;32m      6\u001b[0m     \u001b[38;5;66;03m# print(observation)\u001b[39;00m\n",
      "File \u001b[0;32m/opt/homebrew/Caskroom/miniconda/base/envs/marlbase/lib/python3.10/site-packages/pettingzoo/utils/wrappers/order_enforcing.py:142\u001b[0m, in \u001b[0;36mAECOrderEnforcingIterator.__next__\u001b[0;34m(self)\u001b[0m\n\u001b[1;32m    138\u001b[0m agent \u001b[38;5;241m=\u001b[39m \u001b[38;5;28msuper\u001b[39m()\u001b[38;5;241m.\u001b[39m\u001b[38;5;21m__next__\u001b[39m()\n\u001b[1;32m    139\u001b[0m \u001b[38;5;28;01massert\u001b[39;00m \u001b[38;5;28mhasattr\u001b[39m(\n\u001b[1;32m    140\u001b[0m     \u001b[38;5;28mself\u001b[39m\u001b[38;5;241m.\u001b[39menv, \u001b[38;5;124m\"\u001b[39m\u001b[38;5;124m_has_updated\u001b[39m\u001b[38;5;124m\"\u001b[39m\n\u001b[1;32m    141\u001b[0m ), \u001b[38;5;124m\"\u001b[39m\u001b[38;5;124menv must be wrapped by OrderEnforcingWrapper\u001b[39m\u001b[38;5;124m\"\u001b[39m\n\u001b[0;32m--> 142\u001b[0m \u001b[38;5;28;01massert\u001b[39;00m (\n\u001b[1;32m    143\u001b[0m     \u001b[38;5;28mself\u001b[39m\u001b[38;5;241m.\u001b[39menv\u001b[38;5;241m.\u001b[39m_has_updated  \u001b[38;5;66;03m# pyright: ignore[reportGeneralTypeIssues]\u001b[39;00m\n\u001b[1;32m    144\u001b[0m ), \u001b[38;5;124m\"\u001b[39m\u001b[38;5;124mneed to call step() or reset() in a loop over `agent_iter`\u001b[39m\u001b[38;5;124m\"\u001b[39m\n\u001b[1;32m    145\u001b[0m \u001b[38;5;28mself\u001b[39m\u001b[38;5;241m.\u001b[39menv\u001b[38;5;241m.\u001b[39m_has_updated \u001b[38;5;241m=\u001b[39m \u001b[38;5;28;01mFalse\u001b[39;00m  \u001b[38;5;66;03m# pyright: ignore[reportGeneralTypeIssues]\u001b[39;00m\n\u001b[1;32m    146\u001b[0m \u001b[38;5;28;01mreturn\u001b[39;00m agent\n",
      "\u001b[0;31mAssertionError\u001b[0m: need to call step() or reset() in a loop over `agent_iter`"
     ]
    }
   ],
   "source": [
    "for agent in env.agent_iter():\n",
    "    observation, reward, done, _, _ = env.last()\n",
    "    \n",
    "    # observation, reward, done, _, _ = env.last()\n",
    "    # action = env.action_space(agent).sample()\n",
    "    # env.step(action)\n",
    "    # print(observation)"
   ]
  },
  {
   "cell_type": "code",
   "execution_count": 2,
   "metadata": {},
   "outputs": [
    {
     "data": {
      "image/png": "[encoded data removed]",
      "text/plain": [
       "<Figure size 1000x500 with 1 Axes>"
      ]
     },
     "metadata": {},
     "output_type": "display_data"
    }
   ],
   "source": [
    "import matplotlib.pyplot as plt\n",
    "from pettingzoo.mpe import simple_adversary_v3\n",
    "\n",
    "# Initialize the environment\n",
    "env = simple_adversary_v3.env(continuous_actions=True)\n",
    "env.reset()\n",
    "\n",
    "# Lists to store observations and rewards for visualization\n",
    "observations = []\n",
    "rewards = []\n",
    "\n",
    "# Run the environment with a random policy\n",
    "for agent in env.agent_iter():\n",
    "    # Get the last observation, reward, and done flag for the current agent\n",
    "    observation, reward, done, truncated, _ = env.last()\n",
    "    \n",
    "    # Store the observation and reward for analysis\n",
    "    observations.append(observation)\n",
    "    rewards.append(reward)\n",
    "    action = env.action_space(agent).sample() if not done else None\n",
    "    # Sample a random action if the agent is not done\n",
    "    if done or truncated:\n",
    "        action = None\n",
    "    \n",
    "    \n",
    "    # Step the environment\n",
    "    \n",
    "    env.step(action)\n",
    "\n",
    "    if done or truncated:\n",
    "        break\n",
    "    \n",
    "    # Render the environment\n",
    "    # env.render()\n",
    "    \n",
    "# Close the environment rendering\n",
    "# env.close()\n",
    "\n",
    "# Visualization of rewards\n",
    "plt.figure(figsize=(10, 5))\n",
    "plt.plot(rewards, label=\"Reward per step\")\n",
    "plt.xlabel(\"Step\")\n",
    "plt.ylabel(\"Reward\")\n",
    "plt.title(\"Rewards from Random Policy\")\n",
    "plt.legend()\n",
    "plt.show()\n"
   ]
  },
  {
   "cell_type": "code",
   "execution_count": 3,
   "metadata": {},
   "outputs": [
    {
     "data": {
      "text/plain": [
       "[array([ 0.07425765, -1.4100124 ,  0.2462144 , -0.9114525 ,  0.5344789 ,\n",
       "        -1.1402342 ,  0.39198476, -1.3179812 ], dtype=float32),\n",
       " array([-0.46022123, -0.269778  , -0.46022123, -0.269778  , -0.28826448,\n",
       "         0.22878182, -0.5344789 ,  1.1402342 , -0.14249411, -0.17774697],\n",
       "       dtype=float32),\n",
       " array([-0.31772712, -0.09203106, -0.31772712, -0.09203106, -0.14577037,\n",
       "         0.4065288 , -0.39198476,  1.3179812 ,  0.14249411,  0.17774697],\n",
       "       dtype=float32),\n",
       " array([ 0.07425765, -1.4100124 ,  0.2462144 , -0.9114525 ,  0.5344789 ,\n",
       "        -1.1402342 ,  0.39198476, -1.3179812 ], dtype=float32),\n",
       " array([-0.46022123, -0.269778  , -0.46022123, -0.269778  , -0.28826448,\n",
       "         0.22878182, -0.5344789 ,  1.1402342 , -0.14249411, -0.17774697],\n",
       "       dtype=float32),\n",
       " array([-0.31772712, -0.09203106, -0.31772712, -0.09203106, -0.14577037,\n",
       "         0.4065288 , -0.39198476,  1.3179812 ,  0.14249411,  0.17774697],\n",
       "       dtype=float32),\n",
       " array([ 0.05016722, -1.4052361 ,  0.22212397, -0.90667635,  0.5026064 ,\n",
       "        -1.1547428 ,  0.39051366, -1.3445427 ], dtype=float32),\n",
       " array([-0.4524392 , -0.25049338, -0.4524392 , -0.25049338, -0.28048244,\n",
       "         0.24806647, -0.5026064 ,  1.1547428 , -0.11209273, -0.18979992],\n",
       "       dtype=float32),\n",
       " array([-0.34034646, -0.06069346, -0.34034646, -0.06069346, -0.16838971,\n",
       "         0.4378664 , -0.39051366,  1.3445427 ,  0.11209273,  0.18979992],\n",
       "       dtype=float32),\n",
       " array([ 0.03058689, -1.4006077 ,  0.20254363, -0.9020479 ,  0.5187215 ,\n",
       "        -1.1632717 ,  0.38097164, -1.3493474 ], dtype=float32),\n",
       " array([-0.4881346 , -0.23733608, -0.4881346 , -0.23733608, -0.31617787,\n",
       "         0.26122376, -0.5187215 ,  1.1632717 , -0.13774985, -0.18607572],\n",
       "       dtype=float32),\n",
       " array([-0.35038474, -0.05126037, -0.35038474, -0.05126037, -0.17842801,\n",
       "         0.44729948, -0.38097164,  1.3493474 ,  0.13774985,  0.18607572],\n",
       "       dtype=float32),\n",
       " array([-0.00145464, -1.3928427 ,  0.17050211, -0.89428276,  0.5072515 ,\n",
       "        -1.1852193 ,  0.3449419 , -1.3144262 ], dtype=float32),\n",
       " array([-0.50870615, -0.20762332, -0.50870615, -0.20762332, -0.3367494 ,\n",
       "         0.29093653, -0.5072515 ,  1.1852193 , -0.1623096 , -0.12920693],\n",
       "       dtype=float32),\n",
       " array([-0.34639657, -0.07841641, -0.34639657, -0.07841641, -0.17443982,\n",
       "         0.42014343, -0.3449419 ,  1.3144262 ,  0.1623096 ,  0.12920693],\n",
       "       dtype=float32),\n",
       " array([-0.01871821, -1.4021243 ,  0.15323853, -0.90356445,  0.5164545 ,\n",
       "        -1.2355235 ,  0.34093636, -1.3260726 ], dtype=float32),\n",
       " array([-0.53517276, -0.16660082, -0.53517276, -0.16660082, -0.36321598,\n",
       "         0.331959  , -0.5164545 ,  1.2355235 , -0.17551817, -0.09054912],\n",
       "       dtype=float32),\n",
       " array([-0.35965458, -0.0760517 , -0.35965458, -0.0760517 , -0.18769783,\n",
       "         0.42250815, -0.34093636,  1.3260726 ,  0.17551817,  0.09054912],\n",
       "       dtype=float32),\n",
       " array([-0.05038136, -1.3783209 ,  0.12157539, -0.87976104,  0.4767295 ,\n",
       "        -1.2677584 ,  0.30953342, -1.3380497 ], dtype=float32),\n",
       " array([-0.5271109 , -0.11056256, -0.5271109 , -0.11056256, -0.35515413,\n",
       "         0.3879973 , -0.4767295 ,  1.2677584 , -0.16719608, -0.07029134],\n",
       "       dtype=float32),\n",
       " array([-0.35991478, -0.04027121, -0.35991478, -0.04027121, -0.18795803,\n",
       "         0.45828864, -0.30953342,  1.3380497 ,  0.16719608,  0.07029134],\n",
       "       dtype=float32),\n",
       " array([-0.04263461, -1.3453268 ,  0.12932213, -0.846767  ,  0.4677094 ,\n",
       "        -1.3014903 ,  0.3496732 , -1.3173369 ], dtype=float32),\n",
       " array([-0.510344  , -0.04383649, -0.510344  , -0.04383649, -0.33838725,\n",
       "         0.45472336, -0.4677094 ,  1.3014903 , -0.11803619, -0.01584652],\n",
       "       dtype=float32),\n",
       " array([-0.39230782, -0.02798996, -0.39230782, -0.02798996, -0.22035107,\n",
       "         0.47056988, -0.3496732 ,  1.3173369 ,  0.11803619,  0.01584652],\n",
       "       dtype=float32),\n",
       " array([-0.00186694, -1.3158499 ,  0.17008981, -0.81729007,  0.49923155,\n",
       "        -1.2880781 ,  0.40347996, -1.2558887 ], dtype=float32),\n",
       " array([-0.5010985 , -0.02777185, -0.5010985 , -0.02777185, -0.32914174,\n",
       "         0.470788  , -0.49923155,  1.2880781 , -0.09575158,  0.03218939],\n",
       "       dtype=float32),\n",
       " array([-0.4053469 , -0.05996123, -0.4053469 , -0.05996123, -0.23339015,\n",
       "         0.4385986 , -0.40347996,  1.2558887 ,  0.09575158, -0.03218939],\n",
       "       dtype=float32),\n",
       " array([ 0.0541062 , -1.2801167 ,  0.22606294, -0.7815568 ,  0.58507204,\n",
       "        -1.2469594 ,  0.4549474 , -1.2206295 ], dtype=float32),\n",
       " array([-0.5309658 , -0.03315717, -0.5309658 , -0.03315717, -0.3590091 ,\n",
       "         0.46540266, -0.58507204,  1.2469594 , -0.1301246 ,  0.02633006],\n",
       "       dtype=float32),\n",
       " array([-0.4008412 , -0.05948723, -0.4008412 , -0.05948723, -0.22888447,\n",
       "         0.4390726 , -0.4549474 ,  1.2206295 ,  0.1301246 , -0.02633006],\n",
       "       dtype=float32),\n",
       " array([ 0.09861764, -1.2547387 ,  0.2705744 , -0.7561788 ,  0.68848383,\n",
       "        -1.2268987 ,  0.47757897, -1.2192518 ], dtype=float32),\n",
       " array([-0.58986616, -0.02783994, -0.58986616, -0.02783994, -0.41790944,\n",
       "         0.4707199 , -0.68848383,  1.2268987 , -0.21090485,  0.00764701],\n",
       "       dtype=float32),\n",
       " array([-0.37896132, -0.03548694, -0.37896132, -0.03548694, -0.20700459,\n",
       "         0.4630729 , -0.47757897,  1.2192518 ,  0.21090485, -0.00764701],\n",
       "       dtype=float32),\n",
       " array([ 0.09227127, -1.2294935 ,  0.26422802, -0.7309336 ,  0.75618106,\n",
       "        -1.2187624 ,  0.46820667, -1.2122002 ], dtype=float32),\n",
       " array([-0.6639098 , -0.01073108, -0.6639098 , -0.01073108, -0.49195305,\n",
       "         0.48782876, -0.75618106,  1.2187624 , -0.2879744 ,  0.0065622 ],\n",
       "       dtype=float32),\n",
       " array([-0.3759354 , -0.01729329, -0.3759354 , -0.01729329, -0.20397866,\n",
       "         0.48126656, -0.46820667,  1.2122002 ,  0.2879744 , -0.0065622 ],\n",
       "       dtype=float32),\n",
       " array([ 0.11229531, -1.1876117 ,  0.28425205, -0.68905187,  0.84462214,\n",
       "        -1.1888877 ,  0.4905263 , -1.1908357 ], dtype=float32),\n",
       " array([-0.7323268 ,  0.00127598, -0.7323268 ,  0.00127598, -0.5603701 ,\n",
       "         0.49983582, -0.84462214,  1.1888877 , -0.35409585, -0.00194804],\n",
       "       dtype=float32),\n",
       " array([-0.37823096,  0.00322403, -0.37823096,  0.00322403, -0.20627423,\n",
       "         0.50178385, -0.4905263 ,  1.1908357 ,  0.35409585,  0.00194804],\n",
       "       dtype=float32),\n",
       " array([ 0.1576417 , -1.113403  ,  0.32959846, -0.61484313,  0.9024498 ,\n",
       "        -1.1151112 ,  0.5116039 , -1.1640612 ], dtype=float32),\n",
       " array([-0.74480814,  0.00170822, -0.74480814,  0.00170822, -0.57285136,\n",
       "         0.50026804, -0.9024498 ,  1.1151112 , -0.39084592, -0.04894993],\n",
       "       dtype=float32),\n",
       " array([-0.35396218,  0.05065816, -0.35396218,  0.05065816, -0.18200545,\n",
       "         0.549218  , -0.5116039 ,  1.1640612 ,  0.39084592,  0.04894993],\n",
       "       dtype=float32),\n",
       " array([ 0.19006737, -1.0852159 ,  0.3620241 , -0.58665615,  0.98209435,\n",
       "        -1.1076492 ,  0.513723  , -1.1968853 ], dtype=float32),\n",
       " array([-0.792027  ,  0.02243324, -0.792027  ,  0.02243324, -0.6200703 ,\n",
       "         0.5209931 , -0.98209435,  1.1076492 , -0.4683714 , -0.08923616],\n",
       "       dtype=float32),\n",
       " array([-0.32365564,  0.11166939, -0.32365564,  0.11166939, -0.15169889,\n",
       "         0.61022925, -0.513723  ,  1.1968853 ,  0.4683714 ,  0.08923616],\n",
       "       dtype=float32),\n",
       " array([ 0.2477182 , -1.0768317 ,  0.41967493, -0.57827187,  1.0856345 ,\n",
       "        -1.1170145 ,  0.55734736, -1.228671  ], dtype=float32),\n",
       " array([-0.8379163 ,  0.04018283, -0.8379163 ,  0.04018283, -0.6659596 ,\n",
       "         0.53874266, -1.0856345 ,  1.1170145 , -0.5282872 , -0.11165641],\n",
       "       dtype=float32),\n",
       " array([-0.30962917,  0.15183924, -0.30962917,  0.15183924, -0.13767242,\n",
       "         0.6503991 , -0.55734736,  1.228671  ,  0.5282872 ,  0.11165641],\n",
       "       dtype=float32),\n",
       " array([ 0.2990038 , -1.1032388 ,  0.47096056, -0.604679  ,  1.1611011 ,\n",
       "        -1.1172142 ,  0.5890658 , -1.2736056 ], dtype=float32),\n",
       " array([-0.8620973 ,  0.01397534, -0.8620973 ,  0.01397534, -0.69014055,\n",
       "         0.5125352 , -1.1611011 ,  1.1172142 , -0.5720354 , -0.15639146],\n",
       "       dtype=float32),\n",
       " array([-0.29006195,  0.1703668 , -0.29006195,  0.1703668 , -0.11810521,\n",
       "         0.66892666, -0.5890658 ,  1.2736056 ,  0.5720354 ,  0.15639146],\n",
       "       dtype=float32),\n",
       " array([ 0.33914864, -1.1258658 ,  0.51110536, -0.62730604,  1.2536577 ,\n",
       "        -1.116659  ,  0.58794796, -1.2750278 ], dtype=float32),\n",
       " array([-0.91450906, -0.00920683, -0.91450906, -0.00920683, -0.7425523 ,\n",
       "         0.489353  , -1.2536577 ,  1.116659  , -0.66570973, -0.1583687 ],\n",
       "       dtype=float32),\n",
       " array([-0.24879932,  0.14916188, -0.24879932,  0.14916188, -0.07684258,\n",
       "         0.6477217 , -0.58794796,  1.2750278 ,  0.66570973,  0.1583687 ],\n",
       "       dtype=float32),\n",
       " array([ 0.3994659 , -1.096428  ,  0.57142264, -0.5978682 ,  1.3171458 ,\n",
       "        -1.0933782 ,  0.61638486, -1.203296  ], dtype=float32),\n",
       " array([-0.9176799 , -0.00304987, -0.9176799 , -0.00304987, -0.7457232 ,\n",
       "         0.49550998, -1.3171458 ,  1.0933782 , -0.7007609 , -0.1099178 ],\n",
       "       dtype=float32),\n",
       " array([-0.216919  ,  0.10686793, -0.216919  ,  0.10686793, -0.04496226,\n",
       "         0.6054278 , -0.61638486,  1.203296  ,  0.7007609 ,  0.1099178 ],\n",
       "       dtype=float32),\n",
       " array([ 0.4229736 , -1.1053579 ,  0.59493035, -0.606798  ,  1.3558891 ,\n",
       "        -1.0783211 ,  0.6281666 , -1.1717412 ], dtype=float32),\n",
       " array([-0.9329155 , -0.02703676, -0.9329155 , -0.02703676, -0.76095873,\n",
       "         0.47152308, -1.3558891 ,  1.0783211 , -0.72772247, -0.09342016],\n",
       "       dtype=float32),\n",
       " array([-0.20519301,  0.0663834 , -0.20519301,  0.0663834 , -0.03323627,\n",
       "         0.56494325, -0.6281666 ,  1.1717412 ,  0.72772247,  0.09342016],\n",
       "       dtype=float32),\n",
       " array([ 0.4425387 , -1.0960519 ,  0.61449546, -0.5974921 ,  1.3435962 ,\n",
       "        -1.0313176 ,  0.665858  , -1.1768428 ], dtype=float32),\n",
       " array([-0.90105754, -0.0647343 , -0.90105754, -0.0647343 , -0.7291008 ,\n",
       "         0.43382555, -1.3435962 ,  1.0313176 , -0.67773825, -0.14552519],\n",
       "       dtype=float32),\n",
       " array([-0.22331929,  0.08079088, -0.22331929,  0.08079088, -0.05136254,\n",
       "         0.5793507 , -0.665858  ,  1.1768428 ,  0.67773825,  0.14552519],\n",
       "       dtype=float32),\n",
       " array([ 0.4346898 , -1.0734539 ,  0.60664654, -0.5748941 ,  1.3237128 ,\n",
       "        -1.0002462 ,  0.64459145, -1.1891758 ], dtype=float32),\n",
       " array([-0.88902307, -0.07320772, -0.88902307, -0.07320772, -0.7170663 ,\n",
       "         0.42535213, -1.3237128 ,  1.0002462 , -0.6791214 , -0.1889297 ],\n",
       "       dtype=float32),\n",
       " array([-0.20990166,  0.11572199, -0.20990166,  0.11572199, -0.03794491,\n",
       "         0.61428183, -0.64459145,  1.1891758 ,  0.6791214 ,  0.1889297 ],\n",
       "       dtype=float32),\n",
       " array([ 0.4084198 , -1.0491998 ,  0.5803765 , -0.55064005,  1.275573  ,\n",
       "        -0.97548133,  0.5987503 , -1.1798438 ], dtype=float32),\n",
       " array([-0.8671533 , -0.07371854, -0.8671533 , -0.07371854, -0.69519657,\n",
       "         0.4248413 , -1.275573  ,  0.97548133, -0.6768227 , -0.2043624 ],\n",
       "       dtype=float32),\n",
       " array([-0.19033054,  0.13064387, -0.19033054,  0.13064387, -0.01837379,\n",
       "         0.62920374, -0.5987503 ,  1.1798438 ,  0.6768227 ,  0.2043624 ],\n",
       "       dtype=float32),\n",
       " array([ 0.37122816, -1.0217088 ,  0.54318494, -0.523149  ,  1.189754  ,\n",
       "        -0.95074064,  0.55730844, -1.1602898 ], dtype=float32),\n",
       " array([-0.81852585, -0.07096824, -0.81852585, -0.07096824, -0.64656913,\n",
       "         0.4275916 , -1.189754  ,  0.95074064, -0.6324456 , -0.20954913],\n",
       "       dtype=float32),\n",
       " array([-0.18608028,  0.13858087, -0.18608028,  0.13858087, -0.01412353,\n",
       "         0.63714075, -0.55730844,  1.1602898 ,  0.6324456 ,  0.20954913],\n",
       "       dtype=float32),\n",
       " array([ 0.33512887, -0.9804702 ,  0.5070856 , -0.48191035,  1.1524818 ,\n",
       "        -0.91674113,  0.51707137, -1.1268979 ], dtype=float32),\n",
       " array([-0.8173529 , -0.06372909, -0.8173529 , -0.06372909, -0.6453962 ,\n",
       "         0.43483075, -1.1524818 ,  0.91674113, -0.6354104 , -0.21015677],\n",
       "       dtype=float32),\n",
       " array([-0.18194251,  0.14642769, -0.18194251,  0.14642769, -0.00998576,\n",
       "         0.6449875 , -0.51707137,  1.1268979 ,  0.6354104 ,  0.21015677],\n",
       "       dtype=float32),\n",
       " array([ 0.31632367, -0.9433654 ,  0.48828042, -0.44480556,  1.1011716 ,\n",
       "        -0.88830155,  0.4901069 , -1.1095127 ], dtype=float32)]"
      ]
     },
     "execution_count": 3,
     "metadata": {},
     "output_type": "execute_result"
    }
   ],
   "source": [
    "observations"
   ]
  },
  {
   "cell_type": "code",
   "execution_count": 2,
   "metadata": {},
   "outputs": [],
   "source": [
    "env = simple_adversary_v3.env()"
   ]
  },
  {
   "cell_type": "code",
   "execution_count": 3,
   "metadata": {},
   "outputs": [
    {
     "data": {
      "text/plain": [
       "(array([ 0.3869505 , -1.3555056 ,  0.38114744, -0.417124  ,  1.5373904 ,\n",
       "        -1.7850884 ,  1.4196442 , -1.497267  ], dtype=float32),\n",
       " 0.0,\n",
       " False,\n",
       " False,\n",
       " {})"
      ]
     },
     "execution_count": 3,
     "metadata": {},
     "output_type": "execute_result"
    }
   ],
   "source": [
    "env.reset()\n",
    "env.last()"
   ]
  },
  {
   "cell_type": "code",
   "execution_count": 11,
   "metadata": {},
   "outputs": [
    {
     "data": {
      "text/plain": [
       "np.int64(0)"
      ]
     },
     "execution_count": 11,
     "metadata": {},
     "output_type": "execute_result"
    }
   ],
   "source": [
    "env.action_space('agent_0').sample()"
   ]
  },
  {
   "cell_type": "code",
   "execution_count": 14,
   "metadata": {},
   "outputs": [
    {
     "name": "stdout",
     "output_type": "stream",
     "text": [
      "Discrete(5)\n",
      "Discrete(5)\n",
      "Discrete(5)\n"
     ]
    }
   ],
   "source": [
    "agents = ['adversary_0','agent_0','agent_1']\n",
    "for a in agents:\n",
    "    print(env.action_space(a))\n",
    "\n",
    "# discrete(5) mean action can be from 0 to 4."
   ]
  },
  {
   "cell_type": "code",
   "execution_count": 6,
   "metadata": {},
   "outputs": [],
   "source": [
    "env.reset()\n",
    "\n",
    "obs = [env.observe(agent) for agent in env.agents]"
   ]
  },
  {
   "cell_type": "code",
   "execution_count": 7,
   "metadata": {},
   "outputs": [
    {
     "data": {
      "text/plain": [
       "[array([ 0.61141336, -0.6263744 ,  0.6605934 ,  0.06924564,  1.2353325 ,\n",
       "         0.29230422,  1.0604279 ,  0.28492478], dtype=float32),\n",
       " array([-0.6239191 , -0.91867864, -0.6239191 , -0.91867864, -0.5747391 ,\n",
       "        -0.22305858, -1.2353325 , -0.29230422, -0.17490458, -0.00737944],\n",
       "       dtype=float32),\n",
       " array([-0.44901454, -0.9112992 , -0.44901454, -0.9112992 , -0.39983454,\n",
       "        -0.21567914, -1.0604279 , -0.28492478,  0.17490458,  0.00737944],\n",
       "       dtype=float32)]"
      ]
     },
     "execution_count": 7,
     "metadata": {},
     "output_type": "execute_result"
    }
   ],
   "source": [
    "obs"
   ]
  },
  {
   "cell_type": "code",
   "execution_count": 24,
   "metadata": {},
   "outputs": [
    {
     "name": "stdout",
     "output_type": "stream",
     "text": [
      "[ 1.216722   -0.52531826 -0.15181594 -0.08486383  0.11328176 -0.03297891\n",
      "  0.4309672  -0.44673344]\n",
      "[ 1.1034402  -0.49233937  1.1034402  -0.49233937 -0.26509768 -0.05188491\n",
      " -0.11328176  0.03297891  0.31768546 -0.41375455]\n",
      "[ 0.78575474 -0.07858483  0.78575474 -0.07858483 -0.58278316  0.36186963\n",
      " -0.4309672   0.44673344 -0.31768546  0.41375455]\n"
     ]
    }
   ],
   "source": [
    "count = 0\n",
    "for agent in env.agent_iter():\n",
    "    observation, reward, done, _, _ = env.last()\n",
    "    action = env.action_space(agent).sample()\n",
    "    env.step(action)\n",
    "    print(observation)\n",
    "    count+=1\n",
    "    if count == 3:\n",
    "        break"
   ]
  },
  {
   "cell_type": "code",
   "execution_count": 25,
   "metadata": {},
   "outputs": [
    {
     "ename": "NameNotFound",
     "evalue": "Environment simple_adversary doesn't exist. ",
     "output_type": "error",
     "traceback": [
      "\u001b[0;31m---------------------------------------------------------------------------\u001b[0m",
      "\u001b[0;31mNameNotFound\u001b[0m                              Traceback (most recent call last)",
      "Cell \u001b[0;32mIn[25], line 2\u001b[0m\n\u001b[1;32m      1\u001b[0m \u001b[38;5;28;01mimport\u001b[39;00m \u001b[38;5;21;01mgym\u001b[39;00m\n\u001b[0;32m----> 2\u001b[0m env \u001b[38;5;241m=\u001b[39m \u001b[43mgym\u001b[49m\u001b[38;5;241;43m.\u001b[39;49m\u001b[43mmake\u001b[49m\u001b[43m(\u001b[49m\u001b[38;5;124;43m'\u001b[39;49m\u001b[38;5;124;43msimple_adversary-v3\u001b[39;49m\u001b[38;5;124;43m'\u001b[39;49m\u001b[43m)\u001b[49m \n",
      "File \u001b[0;32m/opt/homebrew/Caskroom/miniconda/base/envs/marlbase/lib/python3.10/site-packages/gym/envs/registration.py:569\u001b[0m, in \u001b[0;36mmake\u001b[0;34m(id, max_episode_steps, autoreset, apply_api_compatibility, disable_env_checker, **kwargs)\u001b[0m\n\u001b[1;32m    563\u001b[0m         logger\u001b[38;5;241m.\u001b[39mwarn(\n\u001b[1;32m    564\u001b[0m             \u001b[38;5;124mf\u001b[39m\u001b[38;5;124m\"\u001b[39m\u001b[38;5;124mUsing the latest versioned environment `\u001b[39m\u001b[38;5;132;01m{\u001b[39;00mnew_env_id\u001b[38;5;132;01m}\u001b[39;00m\u001b[38;5;124m` \u001b[39m\u001b[38;5;124m\"\u001b[39m\n\u001b[1;32m    565\u001b[0m             \u001b[38;5;124mf\u001b[39m\u001b[38;5;124m\"\u001b[39m\u001b[38;5;124minstead of the unversioned environment `\u001b[39m\u001b[38;5;132;01m{\u001b[39;00m\u001b[38;5;28mid\u001b[39m\u001b[38;5;132;01m}\u001b[39;00m\u001b[38;5;124m`.\u001b[39m\u001b[38;5;124m\"\u001b[39m\n\u001b[1;32m    566\u001b[0m         )\n\u001b[1;32m    568\u001b[0m     \u001b[38;5;28;01mif\u001b[39;00m spec_ \u001b[38;5;129;01mis\u001b[39;00m \u001b[38;5;28;01mNone\u001b[39;00m:\n\u001b[0;32m--> 569\u001b[0m         \u001b[43m_check_version_exists\u001b[49m\u001b[43m(\u001b[49m\u001b[43mns\u001b[49m\u001b[43m,\u001b[49m\u001b[43m \u001b[49m\u001b[43mname\u001b[49m\u001b[43m,\u001b[49m\u001b[43m \u001b[49m\u001b[43mversion\u001b[49m\u001b[43m)\u001b[49m\n\u001b[1;32m    570\u001b[0m         \u001b[38;5;28;01mraise\u001b[39;00m error\u001b[38;5;241m.\u001b[39mError(\u001b[38;5;124mf\u001b[39m\u001b[38;5;124m\"\u001b[39m\u001b[38;5;124mNo registered env with id: \u001b[39m\u001b[38;5;132;01m{\u001b[39;00m\u001b[38;5;28mid\u001b[39m\u001b[38;5;132;01m}\u001b[39;00m\u001b[38;5;124m\"\u001b[39m)\n\u001b[1;32m    572\u001b[0m _kwargs \u001b[38;5;241m=\u001b[39m spec_\u001b[38;5;241m.\u001b[39mkwargs\u001b[38;5;241m.\u001b[39mcopy()\n",
      "File \u001b[0;32m/opt/homebrew/Caskroom/miniconda/base/envs/marlbase/lib/python3.10/site-packages/gym/envs/registration.py:219\u001b[0m, in \u001b[0;36m_check_version_exists\u001b[0;34m(ns, name, version)\u001b[0m\n\u001b[1;32m    216\u001b[0m \u001b[38;5;28;01mif\u001b[39;00m get_env_id(ns, name, version) \u001b[38;5;129;01min\u001b[39;00m registry:\n\u001b[1;32m    217\u001b[0m     \u001b[38;5;28;01mreturn\u001b[39;00m\n\u001b[0;32m--> 219\u001b[0m \u001b[43m_check_name_exists\u001b[49m\u001b[43m(\u001b[49m\u001b[43mns\u001b[49m\u001b[43m,\u001b[49m\u001b[43m \u001b[49m\u001b[43mname\u001b[49m\u001b[43m)\u001b[49m\n\u001b[1;32m    220\u001b[0m \u001b[38;5;28;01mif\u001b[39;00m version \u001b[38;5;129;01mis\u001b[39;00m \u001b[38;5;28;01mNone\u001b[39;00m:\n\u001b[1;32m    221\u001b[0m     \u001b[38;5;28;01mreturn\u001b[39;00m\n",
      "File \u001b[0;32m/opt/homebrew/Caskroom/miniconda/base/envs/marlbase/lib/python3.10/site-packages/gym/envs/registration.py:197\u001b[0m, in \u001b[0;36m_check_name_exists\u001b[0;34m(ns, name)\u001b[0m\n\u001b[1;32m    194\u001b[0m namespace_msg \u001b[38;5;241m=\u001b[39m \u001b[38;5;124mf\u001b[39m\u001b[38;5;124m\"\u001b[39m\u001b[38;5;124m in namespace \u001b[39m\u001b[38;5;132;01m{\u001b[39;00mns\u001b[38;5;132;01m}\u001b[39;00m\u001b[38;5;124m\"\u001b[39m \u001b[38;5;28;01mif\u001b[39;00m ns \u001b[38;5;28;01melse\u001b[39;00m \u001b[38;5;124m\"\u001b[39m\u001b[38;5;124m\"\u001b[39m\n\u001b[1;32m    195\u001b[0m suggestion_msg \u001b[38;5;241m=\u001b[39m \u001b[38;5;124mf\u001b[39m\u001b[38;5;124m\"\u001b[39m\u001b[38;5;124mDid you mean: `\u001b[39m\u001b[38;5;132;01m{\u001b[39;00msuggestion[\u001b[38;5;241m0\u001b[39m]\u001b[38;5;132;01m}\u001b[39;00m\u001b[38;5;124m`?\u001b[39m\u001b[38;5;124m\"\u001b[39m \u001b[38;5;28;01mif\u001b[39;00m suggestion \u001b[38;5;28;01melse\u001b[39;00m \u001b[38;5;124m\"\u001b[39m\u001b[38;5;124m\"\u001b[39m\n\u001b[0;32m--> 197\u001b[0m \u001b[38;5;28;01mraise\u001b[39;00m error\u001b[38;5;241m.\u001b[39mNameNotFound(\n\u001b[1;32m    198\u001b[0m     \u001b[38;5;124mf\u001b[39m\u001b[38;5;124m\"\u001b[39m\u001b[38;5;124mEnvironment \u001b[39m\u001b[38;5;132;01m{\u001b[39;00mname\u001b[38;5;132;01m}\u001b[39;00m\u001b[38;5;124m doesn\u001b[39m\u001b[38;5;124m'\u001b[39m\u001b[38;5;124mt exist\u001b[39m\u001b[38;5;132;01m{\u001b[39;00mnamespace_msg\u001b[38;5;132;01m}\u001b[39;00m\u001b[38;5;124m. \u001b[39m\u001b[38;5;132;01m{\u001b[39;00msuggestion_msg\u001b[38;5;132;01m}\u001b[39;00m\u001b[38;5;124m\"\u001b[39m\n\u001b[1;32m    199\u001b[0m )\n",
      "\u001b[0;31mNameNotFound\u001b[0m: Environment simple_adversary doesn't exist. "
     ]
    },
    {
     "ename": "",
     "evalue": "",
     "output_type": "error",
     "traceback": [
      "\u001b[1;31mThe Kernel crashed while executing code in the current cell or a previous cell. \n",
      "\u001b[1;31mPlease review the code in the cell(s) to identify a possible cause of the failure. \n",
      "\u001b[1;31mClick <a href='https://aka.ms/vscodeJupyterKernelCrash'>here</a> for more info. \n",
      "\u001b[1;31mView Jupyter <a href='command:jupyter.viewOutput'>log</a> for further details."
     ]
    }
   ],
   "source": [
    "import gym\n",
    "env = gym.make('simple_adversary-v3') "
   ]
  },
  {
   "cell_type": "code",
   "execution_count": 1,
   "metadata": {},
   "outputs": [],
   "source": [
    "from pettingzoo.mpe import simple_adversary_v3\n",
    "env = simple_adversary_v3.env()\n",
    "env.reset()"
   ]
  },
  {
   "cell_type": "code",
   "execution_count": 1,
   "metadata": {},
   "outputs": [],
   "source": [
    "#print obs space.\n",
    "##issue the state and next_state are same??\n",
    "from pettingzoo.mpe import simple_adversary_v3"
   ]
  },
  {
   "cell_type": "code",
   "execution_count": 2,
   "metadata": {},
   "outputs": [],
   "source": [
    "env = simple_adversary_v3.env()"
   ]
  },
  {
   "cell_type": "code",
   "execution_count": 14,
   "metadata": {},
   "outputs": [
    {
     "name": "stdout",
     "output_type": "stream",
     "text": [
      "False True\n",
      "25\n",
      "False True\n",
      "25\n",
      "False True\n",
      "25\n",
      "25\n"
     ]
    }
   ],
   "source": [
    "env.reset()\n",
    "obs = [env.observe(agent) for agent in env.agents]\n",
    "# print(obs)\n",
    "count = 0\n",
    "for agent in env.agent_iter():\n",
    "    observation, reward, done, turnc, _ = env.last()\n",
    "    action = env.action_space(agent).sample()\n",
    "    if done or turnc:\n",
    "        action = None\n",
    "        print(done, turnc)\n",
    "        print(env.steps)\n",
    "    env.step(action)\n",
    "print(env.steps)"
   ]
  },
  {
   "cell_type": "code",
   "execution_count": 4,
   "metadata": {},
   "outputs": [],
   "source": [
    "import torch\n",
    "import torch.nn as nn"
   ]
  },
  {
   "cell_type": "code",
   "execution_count": 5,
   "metadata": {},
   "outputs": [],
   "source": [
    "loss = nn.MSELoss()"
   ]
  },
  {
   "cell_type": "code",
   "execution_count": 17,
   "metadata": {},
   "outputs": [
    {
     "data": {
      "text/plain": [
       "(torch.Size([64]), torch.Size([64, 5]))"
      ]
     },
     "execution_count": 17,
     "metadata": {},
     "output_type": "execute_result"
    }
   ],
   "source": [
    "a1 = torch.ones((64,))*2\n",
    "a2 = torch.rand((64,5))\n",
    "a1.shape, a2.shape"
   ]
  },
  {
   "cell_type": "code",
   "execution_count": 15,
   "metadata": {},
   "outputs": [
    {
     "data": {
      "text/plain": [
       "tensor([[0.3975, 0.0476, 0.3617, 0.0570, 0.8814],\n",
       "        [0.0369, 0.7507, 0.6498, 0.2440, 0.1107],\n",
       "        [0.0866, 0.2098, 0.1847, 0.0929, 0.3259],\n",
       "        [0.6711, 0.6767, 0.4764, 0.7226, 0.5162],\n",
       "        [0.7730, 0.7611, 0.1371, 0.0566, 0.8185],\n",
       "        [0.7787, 0.0743, 0.1572, 0.1681, 0.9922],\n",
       "        [0.3593, 0.9470, 0.3694, 0.9299, 0.3219],\n",
       "        [0.8411, 0.8292, 0.1665, 0.4506, 0.5501],\n",
       "        [0.9207, 0.7679, 0.9131, 0.1355, 0.1625],\n",
       "        [0.6127, 0.2468, 0.0138, 0.1277, 0.6791],\n",
       "        [0.8341, 0.9159, 0.1167, 0.2389, 0.5370],\n",
       "        [0.2239, 0.4843, 0.6512, 0.4027, 0.7493],\n",
       "        [0.1125, 0.2058, 0.1172, 0.7472, 0.9745],\n",
       "        [0.2456, 0.6498, 0.8599, 0.4960, 0.9202],\n",
       "        [0.9364, 0.2016, 0.9559, 0.0424, 0.8903],\n",
       "        [0.3169, 0.8612, 0.5270, 0.2918, 0.3948],\n",
       "        [0.5766, 0.4639, 0.9006, 0.0247, 0.2580],\n",
       "        [0.5714, 0.9016, 0.8820, 0.3153, 0.5370],\n",
       "        [0.0193, 0.6101, 0.3237, 0.8284, 0.7741],\n",
       "        [0.1959, 0.0558, 0.4000, 0.1862, 0.0081],\n",
       "        [0.5745, 0.7574, 0.7814, 0.3965, 0.0075],\n",
       "        [0.2092, 0.8293, 0.1117, 0.3415, 0.7917],\n",
       "        [0.2941, 0.8918, 0.2625, 0.1909, 0.6450],\n",
       "        [0.2819, 0.4493, 0.0215, 0.0325, 0.4728],\n",
       "        [0.1015, 0.9196, 0.0933, 0.7729, 0.5643],\n",
       "        [0.1543, 0.1556, 0.1488, 0.9011, 0.7509],\n",
       "        [0.0544, 0.6656, 0.5484, 0.9439, 0.6368],\n",
       "        [0.7555, 0.4756, 0.5115, 0.7492, 0.1865],\n",
       "        [0.5159, 0.4485, 0.2511, 0.5610, 0.9169],\n",
       "        [0.6626, 0.5268, 0.4349, 0.1992, 0.7797],\n",
       "        [0.0994, 0.8149, 0.0688, 0.2183, 0.2393],\n",
       "        [0.8812, 0.4042, 0.4512, 0.0943, 0.9669],\n",
       "        [0.7910, 0.0489, 0.4246, 0.5626, 0.4676],\n",
       "        [0.2322, 0.5687, 0.5009, 0.3639, 0.5654],\n",
       "        [0.3598, 0.1846, 0.0131, 0.6912, 0.6581],\n",
       "        [0.2089, 0.1313, 0.6113, 0.5915, 0.1589],\n",
       "        [0.3058, 0.9767, 0.6535, 0.9472, 0.4448],\n",
       "        [0.0166, 0.3988, 0.4223, 0.4485, 0.2879],\n",
       "        [0.4988, 0.9619, 0.9705, 0.0235, 0.6889],\n",
       "        [0.6983, 0.2858, 0.9408, 0.0341, 0.3280],\n",
       "        [0.8694, 0.1731, 0.9979, 0.9867, 0.5235],\n",
       "        [0.8514, 0.4866, 0.6827, 0.3507, 0.3907],\n",
       "        [0.4453, 0.2439, 0.9202, 0.1453, 0.1929],\n",
       "        [0.5511, 0.0108, 0.2944, 0.5856, 0.5196],\n",
       "        [0.4324, 0.2693, 0.1614, 0.6942, 0.8247],\n",
       "        [0.4829, 0.5355, 0.3936, 0.0761, 0.3576],\n",
       "        [0.9134, 0.5112, 0.2838, 0.6904, 0.1722],\n",
       "        [0.0296, 0.8897, 0.9538, 0.1241, 0.5214],\n",
       "        [0.1365, 0.2630, 0.8119, 0.1970, 0.9538],\n",
       "        [0.8219, 0.0204, 0.6685, 0.8337, 0.8394],\n",
       "        [0.8139, 0.0742, 0.2170, 0.3962, 0.9153],\n",
       "        [0.2927, 0.0793, 0.6663, 0.8255, 0.8612],\n",
       "        [0.4327, 0.4858, 0.9528, 0.6598, 0.8391],\n",
       "        [0.1046, 0.1789, 0.0090, 0.7594, 0.2805],\n",
       "        [0.1492, 0.9079, 0.4220, 0.2252, 0.5365],\n",
       "        [0.4368, 0.9441, 0.3986, 0.0470, 0.5580],\n",
       "        [0.7752, 0.5730, 0.5526, 0.1945, 0.3439],\n",
       "        [0.8403, 0.3747, 0.8149, 0.1498, 0.7384],\n",
       "        [0.2989, 0.8131, 0.2511, 0.5229, 0.7217],\n",
       "        [0.1286, 0.1426, 0.4620, 0.5061, 0.5981],\n",
       "        [0.9971, 0.2943, 0.4966, 0.2425, 0.8088],\n",
       "        [0.3153, 0.6963, 0.7579, 0.3108, 0.2351],\n",
       "        [0.7164, 0.1435, 0.2831, 0.3666, 0.8641],\n",
       "        [0.6230, 0.0134, 0.6236, 0.1155, 0.8085]])"
      ]
     },
     "execution_count": 15,
     "metadata": {},
     "output_type": "execute_result"
    }
   ],
   "source": [
    "a2"
   ]
  },
  {
   "cell_type": "code",
   "execution_count": 12,
   "metadata": {},
   "outputs": [
    {
     "data": {
      "text/plain": [
       "torch.Size([64, 1, 1])"
      ]
     },
     "execution_count": 12,
     "metadata": {},
     "output_type": "execute_result"
    }
   ],
   "source": [
    "a1.unsqueeze(1).shape"
   ]
  },
  {
   "cell_type": "code",
   "execution_count": null,
   "metadata": {},
   "outputs": [
    {
     "ename": "RuntimeError",
     "evalue": "gather(): Expected dtype int64 for index",
     "output_type": "error",
     "traceback": [
      "\u001b[0;31m---------------------------------------------------------------------------\u001b[0m",
      "\u001b[0;31mRuntimeError\u001b[0m                              Traceback (most recent call last)",
      "Cell \u001b[0;32mIn[18], line 1\u001b[0m\n\u001b[0;32m----> 1\u001b[0m \u001b[43ma2\u001b[49m\u001b[38;5;241;43m.\u001b[39;49m\u001b[43mgather\u001b[49m\u001b[43m(\u001b[49m\u001b[38;5;241;43m1\u001b[39;49m\u001b[43m,\u001b[49m\u001b[43m \u001b[49m\u001b[43ma1\u001b[49m\u001b[38;5;241;43m.\u001b[39;49m\u001b[43munsqueeze\u001b[49m\u001b[43m(\u001b[49m\u001b[38;5;241;43m1\u001b[39;49m\u001b[43m)\u001b[49m\u001b[43m)\u001b[49m\n",
      "\u001b[0;31mRuntimeError\u001b[0m: gather(): Expected dtype int64 for index"
     ]
    },
    {
     "ename": "",
     "evalue": "",
     "output_type": "error",
     "traceback": [
      "\u001b[1;31mThe Kernel crashed while executing code in the current cell or a previous cell. \n",
      "\u001b[1;31mPlease review the code in the cell(s) to identify a possible cause of the failure. \n",
      "\u001b[1;31mClick <a href='https://aka.ms/vscodeJupyterKernelCrash'>here</a> for more info. \n",
      "\u001b[1;31mView Jupyter <a href='command:jupyter.viewOutput'>log</a> for further details."
     ]
    }
   ],
   "source": [
    "a2.gather(1, a1.unsqueeze(1))"
   ]
  },
  {
   "cell_type": "code",
   "execution_count": null,
   "metadata": {},
   "outputs": [],
   "source": []
  }
 ],
 "metadata": {
  "kernelspec": {
   "display_name": "marlbase",
   "language": "python",
   "name": "python3"
  },
  "language_info": {
   "codemirror_mode": {
    "name": "ipython",
    "version": 3
   },
   "file_extension": ".py",
   "mimetype": "text/x-python",
   "name": "python",
   "nbconvert_exporter": "python",
   "pygments_lexer": "ipython3",
   "version": "3.10.16"
  }
 },
 "nbformat": 4,
 "nbformat_minor": 2
}

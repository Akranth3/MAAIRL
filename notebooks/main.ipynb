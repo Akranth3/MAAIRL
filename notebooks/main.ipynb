{
 "cells": [
  {
   "cell_type": "code",
   "execution_count": 1,
   "metadata": {},
   "outputs": [],
   "source": [
    "import gymnasium as gym\n",
    "from gymnasium.envs.registration import register\n",
    "\n",
    "# Register the 8x8 2-player 1-food environment\n",
    "s, p, f = 8, 2, 1  # size=8x8, players=2, food=1\n",
    "c = False  # force_coop=False\n",
    "\n",
    "register(\n",
    "    id=\"Foraging-{0}x{0}-{1}p-{2}f{3}-v3\".format(s, p, f, \"-coop\" if c else \"\"),\n",
    "    entry_point=\"lbforaging.foraging:ForagingEnv\",\n",
    "    kwargs={\n",
    "        \"players\": p,\n",
    "        \"min_player_level\": 1,\n",
    "        \"max_player_level\": 3,\n",
    "        \"min_food_level\": 1,\n",
    "        \"max_food_level\": 3,\n",
    "        \"field_size\": (s, s),\n",
    "        \"max_num_food\": f,\n",
    "        \"sight\": s,\n",
    "        \"max_episode_steps\": 50,\n",
    "        \"force_coop\": c,\n",
    "        \"normalize_reward\": True,\n",
    "        \"grid_observation\": False,\n",
    "        \"observe_agent_levels\": True,\n",
    "        \"penalty\": 0.0,\n",
    "        \"render_mode\": None\n",
    "    },\n",
    ")"
   ]
  },
  {
   "cell_type": "code",
   "execution_count": 2,
   "metadata": {},
   "outputs": [
    {
     "name": "stderr",
     "output_type": "stream",
     "text": [
      "/opt/homebrew/Caskroom/miniconda/base/envs/marlbase/lib/python3.10/site-packages/gymnasium/envs/registration.py:521: UserWarning: \u001b[33mWARN: Using the latest versioned environment `Foraging-8x8-2p-1f-v3` instead of the unversioned environment `Foraging-8x8-2p-1f`.\u001b[0m\n",
      "  logger.warn(\n",
      "/opt/homebrew/Caskroom/miniconda/base/envs/marlbase/lib/python3.10/site-packages/gymnasium/envs/registration.py:694: UserWarning: \u001b[33mWARN: Overriding environment Foraging-8x8-2p-1f-v3 already in registry.\u001b[0m\n",
      "  logger.warn(f\"Overriding environment {new_spec.id} already in registry.\")\n"
     ]
    }
   ],
   "source": [
    "env = gym.make(\"Foraging-8x8-2p-1f\")"
   ]
  },
  {
   "cell_type": "code",
   "execution_count": 3,
   "metadata": {},
   "outputs": [
    {
     "data": {
      "text/plain": [
       "((array([3., 5., 1., 3., 2., 2., 5., 6., 1.], dtype=float32),\n",
       "  array([3., 5., 1., 5., 6., 1., 3., 2., 2.], dtype=float32)),\n",
       " {})"
      ]
     },
     "execution_count": 3,
     "metadata": {},
     "output_type": "execute_result"
    }
   ],
   "source": [
    "env.reset()"
   ]
  },
  {
   "cell_type": "code",
   "execution_count": 4,
   "metadata": {},
   "outputs": [
    {
     "data": {
      "text/plain": [
       "(np.int64(1), np.int64(4))"
      ]
     },
     "execution_count": 4,
     "metadata": {},
     "output_type": "execute_result"
    }
   ],
   "source": [
    "env.action_space.sample()"
   ]
  },
  {
   "cell_type": "code",
   "execution_count": 5,
   "metadata": {},
   "outputs": [
    {
     "name": "stderr",
     "output_type": "stream",
     "text": [
      "/opt/homebrew/Caskroom/miniconda/base/envs/marlbase/lib/python3.10/site-packages/gymnasium/utils/passive_env_checker.py:246: UserWarning: \u001b[33mWARN: The reward returned by `step()` must be a float, int, np.integer or np.floating, actual type: <class 'list'>\u001b[0m\n",
      "  logger.warn(\n"
     ]
    },
    {
     "data": {
      "text/plain": [
       "((array([3., 1., 3., 6., 7., 1., 0., 4., 3.], dtype=float32),\n",
       "  array([3., 1., 3., 0., 4., 3., 6., 7., 1.], dtype=float32)),\n",
       " [0, 0],\n",
       " False,\n",
       " False,\n",
       " {})"
      ]
     },
     "execution_count": 5,
     "metadata": {},
     "output_type": "execute_result"
    }
   ],
   "source": [
    "env.step(env.action_space.sample())"
   ]
  },
  {
   "cell_type": "code",
   "execution_count": 8,
   "metadata": {},
   "outputs": [
    {
     "ename": "TypeError",
     "evalue": "ForagingEnv.render() got an unexpected keyword argument 'render_mode'",
     "output_type": "error",
     "traceback": [
      "\u001b[0;31m---------------------------------------------------------------------------\u001b[0m",
      "\u001b[0;31mTypeError\u001b[0m                                 Traceback (most recent call last)",
      "Cell \u001b[0;32mIn[8], line 1\u001b[0m\n\u001b[0;32m----> 1\u001b[0m rgb_array \u001b[38;5;241m=\u001b[39m \u001b[43menv\u001b[49m\u001b[38;5;241;43m.\u001b[39;49m\u001b[43mrender\u001b[49m\u001b[43m(\u001b[49m\u001b[43mrender_mode\u001b[49m\u001b[38;5;241;43m=\u001b[39;49m\u001b[38;5;124;43m\"\u001b[39;49m\u001b[38;5;124;43mrgb_array\u001b[39;49m\u001b[38;5;124;43m\"\u001b[39;49m\u001b[43m)\u001b[49m\n",
      "File \u001b[0;32m/opt/homebrew/Caskroom/miniconda/base/envs/marlbase/lib/python3.10/site-packages/gymnasium/wrappers/order_enforcing.py:70\u001b[0m, in \u001b[0;36mOrderEnforcing.render\u001b[0;34m(self, *args, **kwargs)\u001b[0m\n\u001b[1;32m     65\u001b[0m \u001b[38;5;28;01mif\u001b[39;00m \u001b[38;5;129;01mnot\u001b[39;00m \u001b[38;5;28mself\u001b[39m\u001b[38;5;241m.\u001b[39m_disable_render_order_enforcing \u001b[38;5;129;01mand\u001b[39;00m \u001b[38;5;129;01mnot\u001b[39;00m \u001b[38;5;28mself\u001b[39m\u001b[38;5;241m.\u001b[39m_has_reset:\n\u001b[1;32m     66\u001b[0m     \u001b[38;5;28;01mraise\u001b[39;00m ResetNeeded(\n\u001b[1;32m     67\u001b[0m         \u001b[38;5;124m\"\u001b[39m\u001b[38;5;124mCannot call `env.render()` before calling `env.reset()`, if this is a intended action, \u001b[39m\u001b[38;5;124m\"\u001b[39m\n\u001b[1;32m     68\u001b[0m         \u001b[38;5;124m\"\u001b[39m\u001b[38;5;124mset `disable_render_order_enforcing=True` on the OrderEnforcer wrapper.\u001b[39m\u001b[38;5;124m\"\u001b[39m\n\u001b[1;32m     69\u001b[0m     )\n\u001b[0;32m---> 70\u001b[0m \u001b[38;5;28;01mreturn\u001b[39;00m \u001b[38;5;28;43mself\u001b[39;49m\u001b[38;5;241;43m.\u001b[39;49m\u001b[43menv\u001b[49m\u001b[38;5;241;43m.\u001b[39;49m\u001b[43mrender\u001b[49m\u001b[43m(\u001b[49m\u001b[38;5;241;43m*\u001b[39;49m\u001b[43margs\u001b[49m\u001b[43m,\u001b[49m\u001b[43m \u001b[49m\u001b[38;5;241;43m*\u001b[39;49m\u001b[38;5;241;43m*\u001b[39;49m\u001b[43mkwargs\u001b[49m\u001b[43m)\u001b[49m\n",
      "File \u001b[0;32m/opt/homebrew/Caskroom/miniconda/base/envs/marlbase/lib/python3.10/site-packages/gymnasium/wrappers/env_checker.py:67\u001b[0m, in \u001b[0;36mPassiveEnvChecker.render\u001b[0;34m(self, *args, **kwargs)\u001b[0m\n\u001b[1;32m     65\u001b[0m     \u001b[38;5;28;01mreturn\u001b[39;00m env_render_passive_checker(\u001b[38;5;28mself\u001b[39m\u001b[38;5;241m.\u001b[39menv, \u001b[38;5;241m*\u001b[39margs, \u001b[38;5;241m*\u001b[39m\u001b[38;5;241m*\u001b[39mkwargs)\n\u001b[1;32m     66\u001b[0m \u001b[38;5;28;01melse\u001b[39;00m:\n\u001b[0;32m---> 67\u001b[0m     \u001b[38;5;28;01mreturn\u001b[39;00m \u001b[38;5;28;43mself\u001b[39;49m\u001b[38;5;241;43m.\u001b[39;49m\u001b[43menv\u001b[49m\u001b[38;5;241;43m.\u001b[39;49m\u001b[43mrender\u001b[49m\u001b[43m(\u001b[49m\u001b[38;5;241;43m*\u001b[39;49m\u001b[43margs\u001b[49m\u001b[43m,\u001b[49m\u001b[43m \u001b[49m\u001b[38;5;241;43m*\u001b[39;49m\u001b[38;5;241;43m*\u001b[39;49m\u001b[43mkwargs\u001b[49m\u001b[43m)\u001b[49m\n",
      "\u001b[0;31mTypeError\u001b[0m: ForagingEnv.render() got an unexpected keyword argument 'render_mode'"
     ]
    }
   ],
   "source": [
    "rgb_array = env.render()\n",
    "\n"
   ]
  },
  {
   "cell_type": "code",
   "execution_count": 8,
   "metadata": {},
   "outputs": [],
   "source": [
    "import gymnasium as gym\n",
    "\n",
    "envs = gym.envs.registry\n"
   ]
  },
  {
   "cell_type": "code",
   "execution_count": 9,
   "metadata": {},
   "outputs": [
    {
     "data": {
      "text/plain": [
       "dict_keys(['CartPole-v0', 'CartPole-v1', 'MountainCar-v0', 'MountainCarContinuous-v0', 'Pendulum-v1', 'Acrobot-v1', 'phys2d/CartPole-v0', 'phys2d/CartPole-v1', 'phys2d/Pendulum-v0', 'LunarLander-v2', 'LunarLanderContinuous-v2', 'BipedalWalker-v3', 'BipedalWalkerHardcore-v3', 'CarRacing-v2', 'Blackjack-v1', 'FrozenLake-v1', 'FrozenLake8x8-v1', 'CliffWalking-v0', 'Taxi-v3', 'tabular/Blackjack-v0', 'tabular/CliffWalking-v0', 'Reacher-v2', 'Reacher-v4', 'Pusher-v2', 'Pusher-v4', 'InvertedPendulum-v2', 'InvertedPendulum-v4', 'InvertedDoublePendulum-v2', 'InvertedDoublePendulum-v4', 'HalfCheetah-v2', 'HalfCheetah-v3', 'HalfCheetah-v4', 'Hopper-v2', 'Hopper-v3', 'Hopper-v4', 'Swimmer-v2', 'Swimmer-v3', 'Swimmer-v4', 'Walker2d-v2', 'Walker2d-v3', 'Walker2d-v4', 'Ant-v2', 'Ant-v3', 'Ant-v4', 'Humanoid-v2', 'Humanoid-v3', 'Humanoid-v4', 'HumanoidStandup-v2', 'HumanoidStandup-v4', 'GymV21Environment-v0', 'GymV26Environment-v0', 'Foraging-8x8-2p-1f-v3'])"
      ]
     },
     "execution_count": 9,
     "metadata": {},
     "output_type": "execute_result"
    }
   ],
   "source": [
    "envs.keys()"
   ]
  },
  {
   "cell_type": "code",
   "execution_count": 2,
   "metadata": {},
   "outputs": [],
   "source": [
    "import sys\n",
    "sys.path.append(\"../\")"
   ]
  },
  {
   "cell_type": "code",
   "execution_count": 3,
   "metadata": {},
   "outputs": [],
   "source": [
    "from algorithms.random_policy import random_policy"
   ]
  },
  {
   "cell_type": "code",
   "execution_count": 10,
   "metadata": {},
   "outputs": [
    {
     "name": "stderr",
     "output_type": "stream",
     "text": [
      "/opt/homebrew/Caskroom/miniconda/base/envs/marlbase/lib/python3.10/site-packages/gymnasium/envs/registration.py:521: UserWarning: \u001b[33mWARN: Using the latest versioned environment `Foraging-8x8-2p-1f-v3` instead of the unversioned environment `Foraging-8x8-2p-1f`.\u001b[0m\n",
      "  logger.warn(\n",
      "/opt/homebrew/Caskroom/miniconda/base/envs/marlbase/lib/python3.10/site-packages/gymnasium/envs/registration.py:694: UserWarning: \u001b[33mWARN: Overriding environment Foraging-8x8-2p-1f-v3 already in registry.\u001b[0m\n",
      "  logger.warn(f\"Overriding environment {new_spec.id} already in registry.\")\n"
     ]
    }
   ],
   "source": [
    "env = gym.make(\"Foraging-8x8-2p-1f\")\n"
   ]
  },
  {
   "cell_type": "code",
   "execution_count": 11,
   "metadata": {},
   "outputs": [
    {
     "name": "stderr",
     "output_type": "stream",
     "text": [
      "/opt/homebrew/Caskroom/miniconda/base/envs/marlbase/lib/python3.10/site-packages/gymnasium/utils/passive_env_checker.py:246: UserWarning: \u001b[33mWARN: The reward returned by `step()` must be a float, int, np.integer or np.floating, actual type: <class 'list'>\u001b[0m\n",
      "  logger.warn(\n",
      "2024-12-26 11:36:20.596 python[49329:2007898] +[IMKClient subclass]: chose IMKClient_Modern\n",
      "2024-12-26 11:36:20.623 python[49329:2007898] +[IMKInputSession subclass]: chose IMKInputSession_Modern\n"
     ]
    },
    {
     "data": {
      "text/plain": [
       "[[0, 0],\n",
       " [0, 0],\n",
       " [0, 0],\n",
       " [0, 0],\n",
       " [0, 0],\n",
       " [0, 0],\n",
       " [0, 0],\n",
       " [0, 0],\n",
       " [0, 0],\n",
       " [0, 0],\n",
       " [0, 0],\n",
       " [0, 0],\n",
       " [0, 0],\n",
       " [0, 0],\n",
       " [0, 0],\n",
       " [0, 0],\n",
       " [0, 0],\n",
       " [0, 0],\n",
       " [0, 0],\n",
       " [0, 0],\n",
       " [0, 0],\n",
       " [0, 0],\n",
       " [0, 0],\n",
       " [0, 0],\n",
       " [0, 0],\n",
       " [0, 0],\n",
       " [1.0, 0]]"
      ]
     },
     "execution_count": 11,
     "metadata": {},
     "output_type": "execute_result"
    },
    {
     "ename": "",
     "evalue": "",
     "output_type": "error",
     "traceback": [
      "\u001b[1;31mThe Kernel crashed while executing code in the current cell or a previous cell. \n",
      "\u001b[1;31mPlease review the code in the cell(s) to identify a possible cause of the failure. \n",
      "\u001b[1;31mClick <a href='https://aka.ms/vscodeJupyterKernelCrash'>here</a> for more info. \n",
      "\u001b[1;31mView Jupyter <a href='command:jupyter.viewOutput'>log</a> for further details."
     ]
    }
   ],
   "source": [
    "random_policy(env, 30, visualize=True)"
   ]
  },
  {
   "cell_type": "code",
   "execution_count": 12,
   "metadata": {},
   "outputs": [],
   "source": [
    "from pettingzoo.mpe import simple_adversary_v3\n",
    "\n",
    "env = simple_adversary_v3.env()\n",
    "temp = env.reset(seed=42)\n",
    "\n"
   ]
  },
  {
   "cell_type": "code",
   "execution_count": 13,
   "metadata": {},
   "outputs": [],
   "source": [
    "temp"
   ]
  },
  {
   "cell_type": "code",
   "execution_count": 14,
   "metadata": {},
   "outputs": [
    {
     "data": {
      "text/plain": [
       "<bound method OrderEnforcingWrapper.agent_iter of <pettingzoo.utils.wrappers.order_enforcing.OrderEnforcingWrapper object at 0x11b8a1180>>"
      ]
     },
     "execution_count": 14,
     "metadata": {},
     "output_type": "execute_result"
    }
   ],
   "source": [
    "env.agent_iter"
   ]
  },
  {
   "cell_type": "code",
   "execution_count": 15,
   "metadata": {},
   "outputs": [
    {
     "name": "stdout",
     "output_type": "stream",
     "text": [
      "[ 0.69437176 -1.4609686   0.023015   -0.97559977  0.51697916 -1.5288411\n",
      "  1.0734879  -0.19491644] 0.0 False False {}\n",
      "[ 0.17739256  0.06787257  0.17739256  0.06787257 -0.4939642   0.5532414\n",
      " -0.51697916  1.5288411   0.55650866  1.3339247 ] 0.0 False False {}\n",
      "[-0.3791161  -1.2660521  -0.3791161  -1.2660521  -1.0504729  -0.78068334\n",
      " -1.0734879   0.19491644 -0.55650866 -1.3339247 ] 0.0 False False {}\n",
      "[ 0.69437176 -1.4609686   0.023015   -0.97559977  0.51697916 -1.5288411\n",
      "  1.0734879  -0.19491644] -1.6175850136777643 False False {}\n",
      "[ 0.17739256  0.06787257  0.17739256  0.06787257 -0.4939642   0.5532414\n",
      " -0.51697916  1.5288411   0.55650866  1.3339247 ] 1.4276513321984416 False False {}\n",
      "[-0.3791161  -1.2660521  -0.3791161  -1.2660521  -1.0504729  -0.78068334\n",
      " -1.0734879   0.19491644 -0.55650866 -1.3339247 ] 1.4276513321984416 False False {}\n",
      "[ 0.69437176 -1.5109686   0.023015   -1.0255998   0.51697916 -1.6288412\n",
      "  1.0234878  -0.24491644] -1.6628824774836195 False False {}\n",
      "[ 0.17739256  0.11787257  0.17739256  0.11787257 -0.4939642   0.6032413\n",
      " -0.51697916  1.6288412   0.50650865  1.3839247 ] 1.449898768440256 False False {}\n",
      "[-0.3291161  -1.2660521  -0.3291161  -1.2660521  -1.0004728  -0.78068334\n",
      " -1.0234878   0.24491644 -0.50650865 -1.3839247 ] 1.449898768440256 False False {}\n",
      "[ 0.69437176 -1.5484686   0.023015   -1.0630997   0.51697916 -1.6538411\n",
      "  0.98598784 -0.33241645] -1.697028882196009 False False {}\n",
      "[ 0.17739256  0.10537257  0.17739256  0.10537257 -0.4939642   0.59074134\n",
      " -0.51697916  1.6538411   0.46900865  1.3214247 ] 1.4907002703205026 False False {}\n",
      "[-0.29161608 -1.2160522  -0.29161608 -1.2160522  -0.9629728  -0.7306833\n",
      " -0.98598784  0.33241645 -0.46900865 -1.3214247 ] 1.4907002703205026 False False {}\n",
      "[ 0.69437176 -1.5765935   0.023015   -1.0912248   0.51697916 -1.6225911\n",
      "  0.9578628  -0.34804145] -1.7227302168205176 False False {}\n",
      "[ 0.17739256  0.04599757  0.17739256  0.04599757 -0.4939642   0.53136635\n",
      " -0.51697916  1.6225911   0.44088364  1.2745497 ] 1.5394711268240104 False False {}\n",
      "[-0.2634911  -1.2285521  -0.2634911  -1.2285521  -0.93484783 -0.7431834\n",
      " -0.9578628   0.34804145 -0.44088364 -1.2745497 ] 1.5394711268240104 False False {}\n",
      "[ 0.69437176 -1.5976874   0.023015   -1.1123185   0.46697918 -1.5991536\n",
      "  0.9867691  -0.3597602 ] -1.7420553629717264 False False {}\n",
      "[ 2.2739255e-01  1.4663195e-03  2.2739255e-01  1.4663195e-03\n",
      " -4.4396418e-01  4.8683509e-01 -4.6697918e-01  1.5991536e+00\n",
      "  5.1978987e-01  1.2393935e+00] 1.514658082873471 False False {}\n",
      "[-0.29239735 -1.2379271  -0.29239735 -1.2379271  -0.96375406 -0.75255835\n",
      " -0.9867691   0.3597602  -0.5197899  -1.2393935 ] 1.514658082873471 False False {}\n",
      "[ 0.69437176 -1.6135076   0.023015   -1.1281389   0.47947916 -1.5815755\n",
      "  1.0584488  -0.36854926] -1.7565759293144754 False False {}\n",
      "[ 0.21489255 -0.03193212  0.21489255 -0.03193212 -0.45646417  0.45343667\n",
      " -0.47947916  1.5815755   0.5789696   1.2130263 ] 1.539323842449396 False False {}\n",
      "[-0.36407703 -1.2449584  -0.36407703 -1.2449584  -1.0354338  -0.7595896\n",
      " -1.0584488   0.36854926 -0.5789696  -1.2130263 ] 1.539323842449396 False False {}\n",
      "[ 0.69437176 -1.5753728   0.023015   -1.0900041   0.48885417 -1.5683919\n",
      "  1.1122085  -0.32514104] -1.7216131344341452 False False {}\n",
      "[ 0.20551755 -0.00698095  0.20551755 -0.00698095 -0.46583918  0.47838783\n",
      " -0.48885417  1.5683919   0.6233544   1.2432508 ] 1.5159770530508219 False False {}\n",
      "[-0.4178368  -1.2502319  -0.4178368  -1.2502319  -1.0891936  -0.764863\n",
      " -1.1122085   0.32514104 -0.6233544  -1.2432508 ] 1.5159770530508219 False False {}\n",
      "[ 0.69437176 -1.5967718   0.023015   -1.111403    0.49588543 -1.6085042\n",
      "  1.1525284  -0.3925849 ] -1.7412157456743371 False False {}\n",
      "[ 0.1984863   0.01173243  0.1984863   0.01173243 -0.47287044  0.49710122\n",
      " -0.49588543  1.6085042   0.6566429   1.2159194 ] 1.5423829962713913 False False {}\n",
      "[-0.45815662 -1.2041869  -0.45815662 -1.2041869  -1.1295134  -0.7188181\n",
      " -1.1525284   0.3925849  -0.6566429  -1.2159194 ] 1.5423829962713913 False False {}\n",
      "[ 0.69437176 -1.6628209   0.023015   -1.1774522   0.5011589  -1.6885885\n",
      "  1.1827682  -0.44316778] -1.8019782880306734 False False {}\n",
      "[ 0.19321287  0.02576747  0.19321287  0.02576747 -0.47814387  0.51113623\n",
      " -0.5011589   1.6885885   0.68160933  1.2454207 ] 1.6070547811518237 False False {}\n",
      "[-0.4883965  -1.2196532  -0.4883965  -1.2196532  -1.1597532  -0.7342844\n",
      " -1.1827682   0.44316778 -0.68160933 -1.2454207 ] 1.6070547811518237 False False {}\n",
      "[ 0.69437176 -1.7623578   0.023015   -1.2769891   0.50511396 -1.7986516\n",
      "  1.1554481  -0.5311049 ] -1.894216836455871 False False {}\n",
      "[ 0.18925779  0.03629374  0.18925779  0.03629374 -0.48209894  0.52166253\n",
      " -0.50511396  1.7986516   0.6503342   1.2675467 ] 1.7015104649333075 False False {}\n",
      "[-0.46107638 -1.2312529  -0.46107638 -1.2312529  -1.1324332  -0.7458842\n",
      " -1.1554481   0.5311049  -0.6503342  -1.2675467 ] 1.7015104649333075 False False {}\n",
      "[ 0.64437175 -1.8370105  -0.026985   -1.3516418   0.45808026 -1.881199\n",
      "  1.0849581  -0.5470578 ] -1.9467467020038893 False False {}\n",
      "[ 0.18629147  0.04418845  0.18629147  0.04418845 -0.48506525  0.5295572\n",
      " -0.45808026  1.881199    0.6268778   1.3341411 ] 1.7552861736534637 False False {}\n",
      "[-0.44058633 -1.2899528  -0.44058633 -1.2899528  -1.111943   -0.80458397\n",
      " -1.0849581   0.5470578  -0.6268778  -1.3341411 ] 1.7552861736534637 False False {}\n",
      "[ 0.6068717  -1.9430001  -0.06448501 -1.4576312   0.42280498 -1.9431095\n",
      "  1.0820905  -0.6090225 ] -2.0355693410785367 False False {}\n",
      "[ 1.8406674e-01  1.0947944e-04  1.8406674e-01  1.0947944e-04\n",
      " -4.8728999e-01  4.8547825e-01 -4.2280498e-01  1.9431095e+00\n",
      "  6.5928549e-01  1.3340870e+00] 1.8515025617492649 False False {}\n",
      "[-0.47521877 -1.3339776  -0.47521877 -1.3339776  -1.1465755  -0.8486088\n",
      " -1.0820905   0.6090225  -0.6592855  -1.334087  ] 1.8515025617492649 False False {}\n",
      "[ 0.57874674 -1.9724922  -0.09261    -1.4871234   0.44634852 -1.9395424\n",
      "  1.0799398  -0.555496  ] -2.0556442351270414 False False {}\n",
      "[ 0.1323982  -0.03294975  0.1323982  -0.03294975 -0.53895855  0.45241904\n",
      " -0.44634852  1.9395424   0.6335913   1.3840464 ] 1.9192075509908657 False False {}\n",
      "[-0.5011931  -1.4169962  -0.5011931  -1.4169962  -1.1725498  -0.93162745\n",
      " -1.0799398   0.555496   -0.6335913  -1.3840464 ] 1.9192075509908657 False False {}\n",
      "[ 0.507653   -1.9946113  -0.16370375 -1.5092425   0.4140062  -1.9368671\n",
      "  1.0283269  -0.46535107] -2.058199634201746 False False {}\n",
      "[ 0.09364679 -0.05774417  0.09364679 -0.05774417 -0.57771     0.4276246\n",
      " -0.4140062   1.9368671   0.61432064  1.471516  ] 1.9481809554305376 False False {}\n",
      "[-0.5206739  -1.5292602  -0.5206739  -1.5292602  -1.1920305  -1.0438914\n",
      " -1.0283269   0.46535107 -0.61432064 -1.471516  ] 1.9481809554305376 False False {}\n",
      "[ 0.40433267 -2.0112007  -0.26702407 -1.5258318   0.28974944 -1.9348606\n",
      "  0.8896171  -0.39774242] -2.0514416382348637 False False {}\n",
      "[ 0.11458323 -0.07633998  0.11458323 -0.07633998 -0.5567735   0.4090288\n",
      " -0.28974944  1.9348606   0.59986764  1.5371182 ] 1.9137568193677144 False False {}\n",
      "[-0.48528442 -1.6134582  -0.48528442 -1.6134582  -1.1566411  -1.1280894\n",
      " -0.8896171   0.39774242 -0.59986764 -1.5371182 ] 1.9137568193677144 False False {}\n",
      "[ 0.37684244 -2.0236425  -0.2945143  -1.5382738   0.24655688 -1.9333558\n",
      "  0.83558476 -0.39703593] -2.058431342831461 False False {}\n",
      "[ 0.13028556 -0.09028684  0.13028556 -0.09028684 -0.5410712   0.39508194\n",
      " -0.24655688  1.9333558   0.5890279   1.5363199 ] 1.8999193828877337 False False {}\n",
      "[-0.45874232 -1.6266067  -0.45874232 -1.6266067  -1.130099   -1.1412379\n",
      " -0.83558476  0.39703593 -0.5890279  -1.5363199 ] 1.8999193828877337 False False {}\n",
      "[ 0.35622475 -2.032974   -0.31513196 -1.5476053   0.21416245 -1.9322271\n",
      "  0.8450605  -0.39650604] -2.0639476117701325 False False {}\n",
      "[ 0.1420623  -0.10074699  0.1420623  -0.10074699 -0.52929443  0.3846218\n",
      " -0.21416245  1.9322271   0.63089806  1.5357211 ] 1.889787755345433 False False {}\n",
      "[-0.48883578 -1.636468   -0.48883578 -1.636468   -1.1601925  -1.1510992\n",
      " -0.8450605   0.39650604 -0.63089806 -1.5357211 ] 1.889787755345433 False False {}\n",
      "[ 0.3907615  -2.0399728  -0.28059524 -1.5546039   0.28986663 -1.9313806\n",
      "  0.9021674  -0.34610865] -2.077061199029767 False False {}\n",
      "[ 0.10089487 -0.1085921   0.10089487 -0.1085921  -0.57046187  0.3767767\n",
      " -0.28986663  1.9313806   0.6123007   1.585272  ] 1.9288315830635412 False False {}\n",
      "[-0.5114058  -1.6938641  -0.5114058  -1.6938641  -1.1827626  -1.2084953\n",
      " -0.9021674   0.34610865 -0.6123007  -1.585272  ] 1.9288315830635412 False False {}\n",
      "[ 0.46666405 -2.0452216  -0.20469268 -1.5598528   0.39664477 -1.9307457\n",
      "  0.9449975  -0.3083106 ] -2.097786228454619 False False {}\n",
      "[ 0.07001929 -0.11447594  0.07001929 -0.11447594 -0.60133743  0.37089285\n",
      " -0.39664477  1.9307457   0.5483527   1.6224351 ] 1.9635944241965488 False False {}\n",
      "[-0.4783334 -1.736911  -0.4783334 -1.736911  -1.1496902 -1.2515423\n",
      " -0.9449975  0.3083106 -0.5483527 -1.6224351] 1.9635944241965488 False False {}\n",
      "[ 0.523591   -1.9991584  -0.14776576 -1.5137897   0.47672838 -1.9302696\n",
      "  1.0271201  -0.22996205] -2.066587000592483 False False {}\n",
      "[ 0.04686261 -0.06888881  0.04686261 -0.06888881 -0.62449414  0.41647997\n",
      " -0.47672838  1.9302696   0.5503917   1.7003075 ] 1.9832697056529247 False False {}\n",
      "[-0.5035291  -1.7691964  -0.5035291  -1.7691964  -1.1748859  -1.2838275\n",
      " -1.0271201   0.22996205 -0.5503917  -1.7003075 ] 1.9832697056529247 False False {}\n",
      "[ 0.5162862  -1.9646109  -0.15507057 -1.4792422   0.43679106 -1.9299124\n",
      "  1.038712   -0.22120064] -2.0313167091770485 False False {}\n",
      "[ 0.07949509 -0.03469846  0.07949509 -0.03469846 -0.59186167  0.45067033\n",
      " -0.43679106  1.9299124   0.6019209   1.7087119 ] 1.9445788682707579 False False {}\n",
      "[-0.52242583 -1.7434103  -0.52242583 -1.7434103  -1.1937826  -1.2580415\n",
      " -1.038712    0.22120064 -0.6019209  -1.7087119 ] 1.9445788682707579 False False {}\n",
      "[ 0.5108076  -1.9887004  -0.16054918 -1.5033315   0.4068381  -1.9796447\n",
      "  1.047406   -0.21462959] -2.0532543568738117 False False {}\n",
      "[ 0.10396945 -0.0090557   0.10396945 -0.0090557  -0.5673873   0.47631308\n",
      " -0.4068381   1.9796447   0.64056784  1.765015  ] 1.9488912703429457 False False {}\n",
      "[-0.5365984  -1.7740707  -0.5365984  -1.7740707  -1.2079551  -1.288702\n",
      " -1.047406    0.21462959 -0.64056784 -1.765015  ] 1.9488912703429457 False False {}\n",
      "[ 0.5566986  -2.0067675  -0.11465813 -1.5213987   0.43437338 -1.9669437\n",
      "  1.1039264  -0.2097013 ] -2.082553423774159 False False {}\n",
      "[ 0.12232523 -0.03982364  0.12232523 -0.03982364 -0.5490315   0.44554514\n",
      " -0.43437338  1.9669437   0.66955304  1.7572424 ] 1.9539090139807602 False False {}\n",
      "[-0.5472278  -1.7970661  -0.5472278  -1.7970661  -1.2185845  -1.3116974\n",
      " -1.1039264   0.2097013  -0.66955304 -1.7572424 ] 1.9539090139807602 False False {}\n",
      "[ 0.64111686 -2.0203178  -0.03023985 -1.534949    0.4550248  -1.9574181\n",
      "  1.2463168  -0.20600508] -2.119602431159596 False False {}\n",
      "[ 0.18609206 -0.06289958  0.18609206 -0.06289958 -0.48526466  0.4224692\n",
      " -0.4550248   1.9574181   0.79129195  1.751413  ] 1.9231676758319711 False False {}\n",
      "[-0.6051999  -1.8143126  -0.6051999  -1.8143126  -1.2765566  -1.3289438\n",
      " -1.2463168   0.20600508 -0.79129195 -1.751413  ] 1.9231676758319711 False False {}\n",
      "[ 0.7044306  -1.9804804   0.03307386 -1.4951116   0.5205134  -1.9002739\n",
      "  1.3031095  -0.15323293] -2.1020288179318816 False True {}\n",
      "[ 0.18391718 -0.08020654  0.18391718 -0.08020654 -0.48743954  0.40516225\n",
      " -0.5205134   1.9002739   0.7825961   1.747041  ] 1.9013833078866622 False True {}\n",
      "[-0.59867895 -1.8272475  -0.59867895 -1.8272475  -1.2700356  -1.3418787\n",
      " -1.3031095   0.15323293 -0.7825961  -1.747041  ] 1.9013833078866622 False True {}\n"
     ]
    }
   ],
   "source": [
    "for agent in env.agent_iter():\n",
    "    observation, reward, termination, truncation, info = env.last()\n",
    "    print(observation, reward, termination, truncation, info)\n",
    "    if termination or truncation:\n",
    "        action = None\n",
    "    else:\n",
    "        # this is where you would insert your policy\n",
    "        action = env.action_space(agent).sample()\n",
    "\n",
    "    env.step(action)\n",
    "env.close()"
   ]
  },
  {
   "cell_type": "code",
   "execution_count": 1,
   "metadata": {},
   "outputs": [],
   "source": [
    "from pettingzoo.mpe import simple_adversary_v3\n",
    "import numpy as np\n",
    "import os\n",
    "env = simple_adversary_v3.env(continuous_actions=True)"
   ]
  },
  {
   "cell_type": "code",
   "execution_count": 2,
   "metadata": {},
   "outputs": [],
   "source": [
    "env.reset()"
   ]
  },
  {
   "cell_type": "code",
   "execution_count": 4,
   "metadata": {},
   "outputs": [],
   "source": [
    "env.reset()\n",
    "score = 0\n",
    "\n"
   ]
  },
  {
   "cell_type": "code",
   "execution_count": 5,
   "metadata": {},
   "outputs": [
    {
     "name": "stdout",
     "output_type": "stream",
     "text": [
      "adversary_0\n",
      "5\n",
      "agent_0\n",
      "5\n",
      "agent_1\n",
      "5\n"
     ]
    }
   ],
   "source": [
    "for agent in env.agents:\n",
    "    print(agent)\n",
    "    print(env.action_space(agent).shape[0])"
   ]
  },
  {
   "cell_type": "code",
   "execution_count": 19,
   "metadata": {},
   "outputs": [
    {
     "data": {
      "text/plain": [
       "3"
      ]
     },
     "execution_count": 19,
     "metadata": {},
     "output_type": "execute_result"
    }
   ],
   "source": [
    "env.num_agents"
   ]
  },
  {
   "cell_type": "code",
   "execution_count": 18,
   "metadata": {},
   "outputs": [
    {
     "data": {
      "text/plain": [
       "[5, 5, 5]"
      ]
     },
     "execution_count": 18,
     "metadata": {},
     "output_type": "execute_result"
    }
   ],
   "source": [
    "num_agents = len(env.agents)\n",
    "[env.action_space(i).shape[0] for i in env.agents]"
   ]
  },
  {
   "cell_type": "code",
   "execution_count": 46,
   "metadata": {},
   "outputs": [
    {
     "ename": "AssertionError",
     "evalue": "need to call step() or reset() in a loop over `agent_iter`",
     "output_type": "error",
     "traceback": [
      "\u001b[0;31m---------------------------------------------------------------------------\u001b[0m",
      "\u001b[0;31mAssertionError\u001b[0m                            Traceback (most recent call last)",
      "Cell \u001b[0;32mIn[46], line 1\u001b[0m\n\u001b[0;32m----> 1\u001b[0m \u001b[38;5;28;01mfor\u001b[39;00m agent \u001b[38;5;129;01min\u001b[39;00m env\u001b[38;5;241m.\u001b[39magent_iter():\n\u001b[1;32m      2\u001b[0m     observation, reward, done, _, _ \u001b[38;5;241m=\u001b[39m env\u001b[38;5;241m.\u001b[39mlast()\n\u001b[1;32m      3\u001b[0m     \u001b[38;5;28mprint\u001b[39m(observation)\n",
      "File \u001b[0;32m/opt/homebrew/Caskroom/miniconda/base/envs/marlbase/lib/python3.10/site-packages/pettingzoo/utils/wrappers/order_enforcing.py:142\u001b[0m, in \u001b[0;36mAECOrderEnforcingIterator.__next__\u001b[0;34m(self)\u001b[0m\n\u001b[1;32m    138\u001b[0m agent \u001b[38;5;241m=\u001b[39m \u001b[38;5;28msuper\u001b[39m()\u001b[38;5;241m.\u001b[39m\u001b[38;5;21m__next__\u001b[39m()\n\u001b[1;32m    139\u001b[0m \u001b[38;5;28;01massert\u001b[39;00m \u001b[38;5;28mhasattr\u001b[39m(\n\u001b[1;32m    140\u001b[0m     \u001b[38;5;28mself\u001b[39m\u001b[38;5;241m.\u001b[39menv, \u001b[38;5;124m\"\u001b[39m\u001b[38;5;124m_has_updated\u001b[39m\u001b[38;5;124m\"\u001b[39m\n\u001b[1;32m    141\u001b[0m ), \u001b[38;5;124m\"\u001b[39m\u001b[38;5;124menv must be wrapped by OrderEnforcingWrapper\u001b[39m\u001b[38;5;124m\"\u001b[39m\n\u001b[0;32m--> 142\u001b[0m \u001b[38;5;28;01massert\u001b[39;00m (\n\u001b[1;32m    143\u001b[0m     \u001b[38;5;28mself\u001b[39m\u001b[38;5;241m.\u001b[39menv\u001b[38;5;241m.\u001b[39m_has_updated  \u001b[38;5;66;03m# pyright: ignore[reportGeneralTypeIssues]\u001b[39;00m\n\u001b[1;32m    144\u001b[0m ), \u001b[38;5;124m\"\u001b[39m\u001b[38;5;124mneed to call step() or reset() in a loop over `agent_iter`\u001b[39m\u001b[38;5;124m\"\u001b[39m\n\u001b[1;32m    145\u001b[0m \u001b[38;5;28mself\u001b[39m\u001b[38;5;241m.\u001b[39menv\u001b[38;5;241m.\u001b[39m_has_updated \u001b[38;5;241m=\u001b[39m \u001b[38;5;28;01mFalse\u001b[39;00m  \u001b[38;5;66;03m# pyright: ignore[reportGeneralTypeIssues]\u001b[39;00m\n\u001b[1;32m    146\u001b[0m \u001b[38;5;28;01mreturn\u001b[39;00m agent\n",
      "\u001b[0;31mAssertionError\u001b[0m: need to call step() or reset() in a loop over `agent_iter`"
     ]
    }
   ],
   "source": [
    "for agent in env.agent_iter():\n",
    "    observation, reward, done, _, _ = env.last()\n",
    "    print(observation)"
   ]
  },
  {
   "cell_type": "code",
   "execution_count": 21,
   "metadata": {},
   "outputs": [
    {
     "ename": "IndexError",
     "evalue": "tuple index out of range",
     "output_type": "error",
     "traceback": [
      "\u001b[0;31m---------------------------------------------------------------------------\u001b[0m",
      "\u001b[0;31mIndexError\u001b[0m                                Traceback (most recent call last)",
      "Cell \u001b[0;32mIn[21], line 1\u001b[0m\n\u001b[0;32m----> 1\u001b[0m [env\u001b[38;5;241m.\u001b[39maction_space(agent)\u001b[38;5;241m.\u001b[39mshape[\u001b[38;5;241m0\u001b[39m] \u001b[38;5;28;01mfor\u001b[39;00m agent \u001b[38;5;129;01min\u001b[39;00m env\u001b[38;5;241m.\u001b[39magents]\n",
      "Cell \u001b[0;32mIn[21], line 1\u001b[0m, in \u001b[0;36m<listcomp>\u001b[0;34m(.0)\u001b[0m\n\u001b[0;32m----> 1\u001b[0m [\u001b[43menv\u001b[49m\u001b[38;5;241;43m.\u001b[39;49m\u001b[43maction_space\u001b[49m\u001b[43m(\u001b[49m\u001b[43magent\u001b[49m\u001b[43m)\u001b[49m\u001b[38;5;241;43m.\u001b[39;49m\u001b[43mshape\u001b[49m\u001b[43m[\u001b[49m\u001b[38;5;241;43m0\u001b[39;49m\u001b[43m]\u001b[49m \u001b[38;5;28;01mfor\u001b[39;00m agent \u001b[38;5;129;01min\u001b[39;00m env\u001b[38;5;241m.\u001b[39magents]\n",
      "\u001b[0;31mIndexError\u001b[0m: tuple index out of range"
     ]
    }
   ],
   "source": [
    "[env.action_space(agent).shape[0] for agent in env.agents]"
   ]
  },
  {
   "cell_type": "code",
   "execution_count": null,
   "metadata": {},
   "outputs": [],
   "source": []
  }
 ],
 "metadata": {
  "kernelspec": {
   "display_name": "marlbase",
   "language": "python",
   "name": "python3"
  },
  "language_info": {
   "codemirror_mode": {
    "name": "ipython",
    "version": 3
   },
   "file_extension": ".py",
   "mimetype": "text/x-python",
   "name": "python",
   "nbconvert_exporter": "python",
   "pygments_lexer": "ipython3",
   "version": "3.10.16"
  }
 },
 "nbformat": 4,
 "nbformat_minor": 2
}
